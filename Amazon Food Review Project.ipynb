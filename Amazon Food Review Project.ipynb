{
 "cells": [
  {
   "cell_type": "markdown",
   "metadata": {},
   "source": [
    "<h1 align=\"center\"> Amazon Food Reivew</h1>\n",
    "\n",
    "## Introduction:                    \n",
    "The Amazon Food Review data is an open dataset that found at [Kaggle](https://www.kaggle.com/snap/amazon-fine-food-reviews). This dataset consists of reviews of foods from Amazon. The data includes reviews 568,545 reviews from 256,059 users spans from Oct 1999 to Oct 2012.       \n",
    "\n",
    "The purpose of this analysis is to make up a prediction model where we will be able to predict whether a recommendation is positive or negative. In this analysis, we will not focus on the Score, but only the positive/negative sentiment of the recommendation.\n",
    "     \n",
    "## Goals:         \n",
    "- Create new variables and convert variable types          \n",
    "- Generate word cloud to get sense of the review          \n",
    "- Exploratory data analysis for key variables\n",
    "- Explore the relationship between key variables       \n",
    "- Create Bag of Words using three different methods     \n",
    "- Build logistic regression and random forest regression model and find the one performs the best\n",
    "\n",
    "## Outline\n",
    "- <b>1.Data Cleaning and Preprocessing</b>  \n",
    " - 1.1 Loading data               \n",
    " - 1.2 Create New Variables and Convert Variable Types             \n",
    " - 1.3 Build Term-doc incidence matrix            \n",
    "    - a) stopwords              \n",
    "    - b) Stemming                  \n",
    "    - c) punctuaion removal               \n",
    " - 1.4 create cloud word             \n",
    "             \n",
    "                 \n",
    "- <b>2. Exploratory Data Analysis</b>      \n",
    " - 2.1 Descriptive Statistics                \n",
    " - 2.2 Socre analysis                 \n",
    " - 2.3 Sentiment analysis          \n",
    " - 2.4 Usefulness analysis        \n",
    " - 2.5 Reviewers analysis         \n",
    " - 2.6 Relationship analysis between variables\n",
    "   - a)Are positive reveiws more helpful?\n",
    "   - b)Are frequent reviewers more helpful? \n",
    "             \n",
    "             \n",
    "- <b>3. Predictive Modeling</b>   \n",
    " - 3.1 Test train data split                   \n",
    " - 3.2 Convert text to vector                 \n",
    "     - a) Uni-gram bag of words\n",
    "     - b) Bi-gram bag of words\n",
    "     - c) tf-idf\n",
    " - 3.3 Logistic Regression\n",
    "   - a) Using Uni-gram bag of words\n",
    "   - b) Using bi-gram bag of words\n",
    "   - c) using tf-idf\n",
    " - 3.4 Random Forest Regression              \n",
    "   - a) Using Uni-gram bag of words\n",
    "   - b) Using bi-gram bag of words\n",
    "   - c) using tf-idf                   \n",
    "                   \n",
    "                   \n",
    "- <b>4. Predicition Evaluation</b>       \n",
    "    - 4.1 Comparison of logistic regression models\n",
    "        - a) Comparison of Classification report         \n",
    "        - b) Comparison of AUC values\n",
    "        - c) Comparison of ROC Curve\n",
    "    - 4.2 Comparison of random forest regression models\n",
    "        - a) Comparison of Classification report         \n",
    "        - b) Comparison of AUC values\n",
    "        - c) Comparison of ROC Curve\n",
    "    - 4.3 Comparison between Logistic Regression Model and Random Forest Regression Model   \n",
    "                 \n",
    "                 \n",
    "- <b>5. Conclusion</b>  \n",
    "\n",
    "                  \n",
    "                  \n"
   ]
  },
  {
   "cell_type": "markdown",
   "metadata": {},
   "source": [
    "            "
   ]
  },
  {
   "cell_type": "markdown",
   "metadata": {},
   "source": [
    "\n",
    "## 1. Data Cleaning and Preprocessing\n",
    "\n",
    "### Summary           \n",
    "3 new variables and their levels were created:\n",
    "- sentiment: Reviews scored above 3 were treated as positive and reviews under 3 were treated as negative.\n",
    "- helpfulness: the percentage of reviews that people voted for helpfulness. 4 levels of helpfulness were defined.\n",
    "- UserFrequency: how frequency of a user submits reviews. 2 levels of userfrequency were defined.              \n",
    "\n",
    "We performed three operations on the data to format our data and build the Term-doc incidence matrix: stop words and punctuation removal, stemming, and lowering letter cases.     \n",
    "     \n",
    "At the end of this section, cloud words were generated to give a sense of the review data. \n",
    "\n",
    "### 1.1 Gather Sense of Data\n",
    "The first thing to do is to get a sense of our data. The data includes 568,545 reviews from 256,059 users. The Id, ProductId, and Time data do not relate to the purpose of this project, so we will not use them. The summary variable is the extract from the text so we will use the summary in the model instead of using Text. "
   ]
  },
  {
   "cell_type": "markdown",
   "metadata": {},
   "source": [
    "#### Loading data"
   ]
  },
  {
   "cell_type": "code",
   "execution_count": 1,
   "metadata": {},
   "outputs": [],
   "source": [
    "import pandas as pd\n",
    "import numpy as np\n",
    "import pickle"
   ]
  },
  {
   "cell_type": "code",
   "execution_count": 2,
   "metadata": {},
   "outputs": [],
   "source": [
    "df = pd.read_csv('Reviews.csv')"
   ]
  },
  {
   "cell_type": "code",
   "execution_count": 3,
   "metadata": {
    "scrolled": false
   },
   "outputs": [
    {
     "data": {
      "text/html": [
       "<div>\n",
       "<style scoped>\n",
       "    .dataframe tbody tr th:only-of-type {\n",
       "        vertical-align: middle;\n",
       "    }\n",
       "\n",
       "    .dataframe tbody tr th {\n",
       "        vertical-align: top;\n",
       "    }\n",
       "\n",
       "    .dataframe thead th {\n",
       "        text-align: right;\n",
       "    }\n",
       "</style>\n",
       "<table border=\"1\" class=\"dataframe\">\n",
       "  <thead>\n",
       "    <tr style=\"text-align: right;\">\n",
       "      <th></th>\n",
       "      <th>Id</th>\n",
       "      <th>ProductId</th>\n",
       "      <th>UserId</th>\n",
       "      <th>ProfileName</th>\n",
       "      <th>HelpfulnessNumerator</th>\n",
       "      <th>HelpfulnessDenominator</th>\n",
       "      <th>Score</th>\n",
       "      <th>Time</th>\n",
       "      <th>Summary</th>\n",
       "      <th>Text</th>\n",
       "    </tr>\n",
       "  </thead>\n",
       "  <tbody>\n",
       "    <tr>\n",
       "      <th>0</th>\n",
       "      <td>1</td>\n",
       "      <td>B001E4KFG0</td>\n",
       "      <td>A3SGXH7AUHU8GW</td>\n",
       "      <td>delmartian</td>\n",
       "      <td>1</td>\n",
       "      <td>1</td>\n",
       "      <td>5</td>\n",
       "      <td>1303862400</td>\n",
       "      <td>Good Quality Dog Food</td>\n",
       "      <td>I have bought several of the Vitality canned d...</td>\n",
       "    </tr>\n",
       "    <tr>\n",
       "      <th>1</th>\n",
       "      <td>2</td>\n",
       "      <td>B00813GRG4</td>\n",
       "      <td>A1D87F6ZCVE5NK</td>\n",
       "      <td>dll pa</td>\n",
       "      <td>0</td>\n",
       "      <td>0</td>\n",
       "      <td>1</td>\n",
       "      <td>1346976000</td>\n",
       "      <td>Not as Advertised</td>\n",
       "      <td>Product arrived labeled as Jumbo Salted Peanut...</td>\n",
       "    </tr>\n",
       "    <tr>\n",
       "      <th>2</th>\n",
       "      <td>3</td>\n",
       "      <td>B000LQOCH0</td>\n",
       "      <td>ABXLMWJIXXAIN</td>\n",
       "      <td>Natalia Corres \"Natalia Corres\"</td>\n",
       "      <td>1</td>\n",
       "      <td>1</td>\n",
       "      <td>4</td>\n",
       "      <td>1219017600</td>\n",
       "      <td>\"Delight\" says it all</td>\n",
       "      <td>This is a confection that has been around a fe...</td>\n",
       "    </tr>\n",
       "    <tr>\n",
       "      <th>3</th>\n",
       "      <td>4</td>\n",
       "      <td>B000UA0QIQ</td>\n",
       "      <td>A395BORC6FGVXV</td>\n",
       "      <td>Karl</td>\n",
       "      <td>3</td>\n",
       "      <td>3</td>\n",
       "      <td>2</td>\n",
       "      <td>1307923200</td>\n",
       "      <td>Cough Medicine</td>\n",
       "      <td>If you are looking for the secret ingredient i...</td>\n",
       "    </tr>\n",
       "    <tr>\n",
       "      <th>4</th>\n",
       "      <td>5</td>\n",
       "      <td>B006K2ZZ7K</td>\n",
       "      <td>A1UQRSCLF8GW1T</td>\n",
       "      <td>Michael D. Bigham \"M. Wassir\"</td>\n",
       "      <td>0</td>\n",
       "      <td>0</td>\n",
       "      <td>5</td>\n",
       "      <td>1350777600</td>\n",
       "      <td>Great taffy</td>\n",
       "      <td>Great taffy at a great price.  There was a wid...</td>\n",
       "    </tr>\n",
       "  </tbody>\n",
       "</table>\n",
       "</div>"
      ],
      "text/plain": [
       "   Id   ProductId          UserId                      ProfileName  \\\n",
       "0   1  B001E4KFG0  A3SGXH7AUHU8GW                       delmartian   \n",
       "1   2  B00813GRG4  A1D87F6ZCVE5NK                           dll pa   \n",
       "2   3  B000LQOCH0   ABXLMWJIXXAIN  Natalia Corres \"Natalia Corres\"   \n",
       "3   4  B000UA0QIQ  A395BORC6FGVXV                             Karl   \n",
       "4   5  B006K2ZZ7K  A1UQRSCLF8GW1T    Michael D. Bigham \"M. Wassir\"   \n",
       "\n",
       "   HelpfulnessNumerator  HelpfulnessDenominator  Score        Time  \\\n",
       "0                     1                       1      5  1303862400   \n",
       "1                     0                       0      1  1346976000   \n",
       "2                     1                       1      4  1219017600   \n",
       "3                     3                       3      2  1307923200   \n",
       "4                     0                       0      5  1350777600   \n",
       "\n",
       "                 Summary                                               Text  \n",
       "0  Good Quality Dog Food  I have bought several of the Vitality canned d...  \n",
       "1      Not as Advertised  Product arrived labeled as Jumbo Salted Peanut...  \n",
       "2  \"Delight\" says it all  This is a confection that has been around a fe...  \n",
       "3         Cough Medicine  If you are looking for the secret ingredient i...  \n",
       "4            Great taffy  Great taffy at a great price.  There was a wid...  "
      ]
     },
     "execution_count": 3,
     "metadata": {},
     "output_type": "execute_result"
    }
   ],
   "source": [
    "df.head()"
   ]
  },
  {
   "cell_type": "markdown",
   "metadata": {},
   "source": [
    "### 1.2 Create New Variables and Convert Variable Types"
   ]
  },
  {
   "cell_type": "markdown",
   "metadata": {},
   "source": [
    "Let's add the **Sentiment** column that turns the numeric score into either *positive* or *negative*.            \n",
    "\n",
    "As we only want to get the global sentiment of the recommendations (positive or negative), we will purposefully ignore all Scores equal to 3. If the score id above 3, then the recommendation wil be set to \"postive\". Otherwise, it will be set to \"negative\".          \n",
    "\n",
    "\n"
   ]
  },
  {
   "cell_type": "code",
   "execution_count": 4,
   "metadata": {
    "scrolled": false
   },
   "outputs": [],
   "source": [
    "df[\"Sentiment\"] = df[\"Score\"].apply(lambda score: \"positive\" if score > 3 else \"negative\")"
   ]
  },
  {
   "cell_type": "markdown",
   "metadata": {},
   "source": [
    "Similarly, the **Usefulness** column turns the number of votes into a boolean. We can use **HelpfulnessNumerator** and **HelpfulnessDenominator** to create level of usefulness"
   ]
  },
  {
   "cell_type": "code",
   "execution_count": 5,
   "metadata": {
    "scrolled": true
   },
   "outputs": [],
   "source": [
    "df[\"Usefulness\"] = (df[\"HelpfulnessNumerator\"]/df[\"HelpfulnessDenominator\"]).apply\\\n",
    "    (lambda n: \">75%(very helpful)\" if n > 0.75\n",
    "         else (\"25%-75% (helpful)\" if n >= 0.25 and n <= 0.75\n",
    "             else (\"<25% (little helpful)\" if n < 0.25\n",
    "                 else \"=0 (useless)\")))"
   ]
  },
  {
   "cell_type": "markdown",
   "metadata": {},
   "source": [
    "Then we count the frequency of **UserID**"
   ]
  },
  {
   "cell_type": "code",
   "execution_count": 6,
   "metadata": {
    "scrolled": true
   },
   "outputs": [],
   "source": [
    "n = df.UserId.value_counts()\n",
    "df['UserFrequency'] = df['UserId'].apply \\\n",
    "    (lambda counts: 'frequent reviewer (>100 reviews)' if n[counts] > 100 \n",
    "            else 'Not frequent reviewer (0-100 reviews)')"
   ]
  },
  {
   "cell_type": "markdown",
   "metadata": {},
   "source": [
    "Let's select some subcolumns that we will use for the analysis"
   ]
  },
  {
   "cell_type": "code",
   "execution_count": 7,
   "metadata": {
    "scrolled": true
   },
   "outputs": [
    {
     "data": {
      "text/html": [
       "<div>\n",
       "<style scoped>\n",
       "    .dataframe tbody tr th:only-of-type {\n",
       "        vertical-align: middle;\n",
       "    }\n",
       "\n",
       "    .dataframe tbody tr th {\n",
       "        vertical-align: top;\n",
       "    }\n",
       "\n",
       "    .dataframe thead th {\n",
       "        text-align: right;\n",
       "    }\n",
       "</style>\n",
       "<table border=\"1\" class=\"dataframe\">\n",
       "  <thead>\n",
       "    <tr style=\"text-align: right;\">\n",
       "      <th></th>\n",
       "      <th>Id</th>\n",
       "      <th>Score</th>\n",
       "      <th>Summary</th>\n",
       "      <th>Sentiment</th>\n",
       "      <th>Usefulness</th>\n",
       "      <th>UserFrequency</th>\n",
       "    </tr>\n",
       "  </thead>\n",
       "  <tbody>\n",
       "    <tr>\n",
       "      <th>0</th>\n",
       "      <td>1</td>\n",
       "      <td>5</td>\n",
       "      <td>Good Quality Dog Food</td>\n",
       "      <td>positive</td>\n",
       "      <td>&gt;75%(very helpful)</td>\n",
       "      <td>Not frequent reviewer (0-100 reviews)</td>\n",
       "    </tr>\n",
       "    <tr>\n",
       "      <th>1</th>\n",
       "      <td>2</td>\n",
       "      <td>1</td>\n",
       "      <td>Not as Advertised</td>\n",
       "      <td>negative</td>\n",
       "      <td>=0 (useless)</td>\n",
       "      <td>Not frequent reviewer (0-100 reviews)</td>\n",
       "    </tr>\n",
       "    <tr>\n",
       "      <th>2</th>\n",
       "      <td>3</td>\n",
       "      <td>4</td>\n",
       "      <td>\"Delight\" says it all</td>\n",
       "      <td>positive</td>\n",
       "      <td>&gt;75%(very helpful)</td>\n",
       "      <td>Not frequent reviewer (0-100 reviews)</td>\n",
       "    </tr>\n",
       "    <tr>\n",
       "      <th>3</th>\n",
       "      <td>4</td>\n",
       "      <td>2</td>\n",
       "      <td>Cough Medicine</td>\n",
       "      <td>negative</td>\n",
       "      <td>&gt;75%(very helpful)</td>\n",
       "      <td>Not frequent reviewer (0-100 reviews)</td>\n",
       "    </tr>\n",
       "    <tr>\n",
       "      <th>4</th>\n",
       "      <td>5</td>\n",
       "      <td>5</td>\n",
       "      <td>Great taffy</td>\n",
       "      <td>positive</td>\n",
       "      <td>=0 (useless)</td>\n",
       "      <td>Not frequent reviewer (0-100 reviews)</td>\n",
       "    </tr>\n",
       "  </tbody>\n",
       "</table>\n",
       "</div>"
      ],
      "text/plain": [
       "   Id  Score                Summary Sentiment          Usefulness  \\\n",
       "0   1      5  Good Quality Dog Food  positive  >75%(very helpful)   \n",
       "1   2      1      Not as Advertised  negative        =0 (useless)   \n",
       "2   3      4  \"Delight\" says it all  positive  >75%(very helpful)   \n",
       "3   4      2         Cough Medicine  negative  >75%(very helpful)   \n",
       "4   5      5            Great taffy  positive        =0 (useless)   \n",
       "\n",
       "                           UserFrequency  \n",
       "0  Not frequent reviewer (0-100 reviews)  \n",
       "1  Not frequent reviewer (0-100 reviews)  \n",
       "2  Not frequent reviewer (0-100 reviews)  \n",
       "3  Not frequent reviewer (0-100 reviews)  \n",
       "4  Not frequent reviewer (0-100 reviews)  "
      ]
     },
     "execution_count": 7,
     "metadata": {},
     "output_type": "execute_result"
    }
   ],
   "source": [
    "df = df[['Id', 'Score', 'Summary', 'Sentiment', 'Usefulness', 'UserFrequency']]\n",
    "df.head()"
   ]
  },
  {
   "cell_type": "markdown",
   "metadata": {},
   "source": [
    "ket's look at some 5s:"
   ]
  },
  {
   "cell_type": "code",
   "execution_count": 8,
   "metadata": {
    "scrolled": false
   },
   "outputs": [
    {
     "data": {
      "text/html": [
       "<div>\n",
       "<style scoped>\n",
       "    .dataframe tbody tr th:only-of-type {\n",
       "        vertical-align: middle;\n",
       "    }\n",
       "\n",
       "    .dataframe tbody tr th {\n",
       "        vertical-align: top;\n",
       "    }\n",
       "\n",
       "    .dataframe thead th {\n",
       "        text-align: right;\n",
       "    }\n",
       "</style>\n",
       "<table border=\"1\" class=\"dataframe\">\n",
       "  <thead>\n",
       "    <tr style=\"text-align: right;\">\n",
       "      <th></th>\n",
       "      <th>Id</th>\n",
       "      <th>Score</th>\n",
       "      <th>Summary</th>\n",
       "      <th>Sentiment</th>\n",
       "      <th>Usefulness</th>\n",
       "      <th>UserFrequency</th>\n",
       "    </tr>\n",
       "  </thead>\n",
       "  <tbody>\n",
       "    <tr>\n",
       "      <th>0</th>\n",
       "      <td>1</td>\n",
       "      <td>5</td>\n",
       "      <td>Good Quality Dog Food</td>\n",
       "      <td>positive</td>\n",
       "      <td>&gt;75%(very helpful)</td>\n",
       "      <td>Not frequent reviewer (0-100 reviews)</td>\n",
       "    </tr>\n",
       "    <tr>\n",
       "      <th>4</th>\n",
       "      <td>5</td>\n",
       "      <td>5</td>\n",
       "      <td>Great taffy</td>\n",
       "      <td>positive</td>\n",
       "      <td>=0 (useless)</td>\n",
       "      <td>Not frequent reviewer (0-100 reviews)</td>\n",
       "    </tr>\n",
       "    <tr>\n",
       "      <th>6</th>\n",
       "      <td>7</td>\n",
       "      <td>5</td>\n",
       "      <td>Great!  Just as good as the expensive brands!</td>\n",
       "      <td>positive</td>\n",
       "      <td>=0 (useless)</td>\n",
       "      <td>Not frequent reviewer (0-100 reviews)</td>\n",
       "    </tr>\n",
       "    <tr>\n",
       "      <th>7</th>\n",
       "      <td>8</td>\n",
       "      <td>5</td>\n",
       "      <td>Wonderful, tasty taffy</td>\n",
       "      <td>positive</td>\n",
       "      <td>=0 (useless)</td>\n",
       "      <td>Not frequent reviewer (0-100 reviews)</td>\n",
       "    </tr>\n",
       "    <tr>\n",
       "      <th>8</th>\n",
       "      <td>9</td>\n",
       "      <td>5</td>\n",
       "      <td>Yay Barley</td>\n",
       "      <td>positive</td>\n",
       "      <td>&gt;75%(very helpful)</td>\n",
       "      <td>Not frequent reviewer (0-100 reviews)</td>\n",
       "    </tr>\n",
       "  </tbody>\n",
       "</table>\n",
       "</div>"
      ],
      "text/plain": [
       "   Id  Score                                        Summary Sentiment  \\\n",
       "0   1      5                          Good Quality Dog Food  positive   \n",
       "4   5      5                                    Great taffy  positive   \n",
       "6   7      5  Great!  Just as good as the expensive brands!  positive   \n",
       "7   8      5                         Wonderful, tasty taffy  positive   \n",
       "8   9      5                                     Yay Barley  positive   \n",
       "\n",
       "           Usefulness                          UserFrequency  \n",
       "0  >75%(very helpful)  Not frequent reviewer (0-100 reviews)  \n",
       "4        =0 (useless)  Not frequent reviewer (0-100 reviews)  \n",
       "6        =0 (useless)  Not frequent reviewer (0-100 reviews)  \n",
       "7        =0 (useless)  Not frequent reviewer (0-100 reviews)  \n",
       "8  >75%(very helpful)  Not frequent reviewer (0-100 reviews)  "
      ]
     },
     "execution_count": 8,
     "metadata": {},
     "output_type": "execute_result"
    }
   ],
   "source": [
    "df[df.Score == 5].head(5)"
   ]
  },
  {
   "cell_type": "markdown",
   "metadata": {},
   "source": [
    "and some 1s as well:"
   ]
  },
  {
   "cell_type": "code",
   "execution_count": 9,
   "metadata": {
    "scrolled": true
   },
   "outputs": [
    {
     "data": {
      "text/html": [
       "<div>\n",
       "<style scoped>\n",
       "    .dataframe tbody tr th:only-of-type {\n",
       "        vertical-align: middle;\n",
       "    }\n",
       "\n",
       "    .dataframe tbody tr th {\n",
       "        vertical-align: top;\n",
       "    }\n",
       "\n",
       "    .dataframe thead th {\n",
       "        text-align: right;\n",
       "    }\n",
       "</style>\n",
       "<table border=\"1\" class=\"dataframe\">\n",
       "  <thead>\n",
       "    <tr style=\"text-align: right;\">\n",
       "      <th></th>\n",
       "      <th>Id</th>\n",
       "      <th>Score</th>\n",
       "      <th>Summary</th>\n",
       "      <th>Sentiment</th>\n",
       "      <th>Usefulness</th>\n",
       "      <th>UserFrequency</th>\n",
       "    </tr>\n",
       "  </thead>\n",
       "  <tbody>\n",
       "    <tr>\n",
       "      <th>1</th>\n",
       "      <td>2</td>\n",
       "      <td>1</td>\n",
       "      <td>Not as Advertised</td>\n",
       "      <td>negative</td>\n",
       "      <td>=0 (useless)</td>\n",
       "      <td>Not frequent reviewer (0-100 reviews)</td>\n",
       "    </tr>\n",
       "    <tr>\n",
       "      <th>12</th>\n",
       "      <td>13</td>\n",
       "      <td>1</td>\n",
       "      <td>My Cats Are Not Fans of the New Food</td>\n",
       "      <td>negative</td>\n",
       "      <td>&gt;75%(very helpful)</td>\n",
       "      <td>Not frequent reviewer (0-100 reviews)</td>\n",
       "    </tr>\n",
       "    <tr>\n",
       "      <th>26</th>\n",
       "      <td>27</td>\n",
       "      <td>1</td>\n",
       "      <td>Nasty No flavor</td>\n",
       "      <td>negative</td>\n",
       "      <td>&lt;25% (little helpful)</td>\n",
       "      <td>Not frequent reviewer (0-100 reviews)</td>\n",
       "    </tr>\n",
       "    <tr>\n",
       "      <th>50</th>\n",
       "      <td>51</td>\n",
       "      <td>1</td>\n",
       "      <td>Don't like it</td>\n",
       "      <td>negative</td>\n",
       "      <td>&lt;25% (little helpful)</td>\n",
       "      <td>Not frequent reviewer (0-100 reviews)</td>\n",
       "    </tr>\n",
       "    <tr>\n",
       "      <th>62</th>\n",
       "      <td>63</td>\n",
       "      <td>1</td>\n",
       "      <td>stale product.</td>\n",
       "      <td>negative</td>\n",
       "      <td>&gt;75%(very helpful)</td>\n",
       "      <td>Not frequent reviewer (0-100 reviews)</td>\n",
       "    </tr>\n",
       "  </tbody>\n",
       "</table>\n",
       "</div>"
      ],
      "text/plain": [
       "    Id  Score                               Summary Sentiment  \\\n",
       "1    2      1                     Not as Advertised  negative   \n",
       "12  13      1  My Cats Are Not Fans of the New Food  negative   \n",
       "26  27      1                       Nasty No flavor  negative   \n",
       "50  51      1                         Don't like it  negative   \n",
       "62  63      1                        stale product.  negative   \n",
       "\n",
       "               Usefulness                          UserFrequency  \n",
       "1            =0 (useless)  Not frequent reviewer (0-100 reviews)  \n",
       "12     >75%(very helpful)  Not frequent reviewer (0-100 reviews)  \n",
       "26  <25% (little helpful)  Not frequent reviewer (0-100 reviews)  \n",
       "50  <25% (little helpful)  Not frequent reviewer (0-100 reviews)  \n",
       "62     >75%(very helpful)  Not frequent reviewer (0-100 reviews)  "
      ]
     },
     "execution_count": 9,
     "metadata": {},
     "output_type": "execute_result"
    }
   ],
   "source": [
    "df[df.Score == 1].head(5)"
   ]
  },
  {
   "cell_type": "markdown",
   "metadata": {},
   "source": [
    "### 1.3 Build Term-odc incidence matrix"
   ]
  },
  {
   "cell_type": "markdown",
   "metadata": {},
   "source": [
    "To format our data and build the Term-doc incidence matrix, many operations will be performed on the data :\n",
    "\n",
    "- Stop words removal\n",
    "- Stemming\n",
    "- Punctuations\n",
    "- Lowering"
   ]
  },
  {
   "cell_type": "markdown",
   "metadata": {},
   "source": [
    "#### a) Stopwords\n",
    "* A stop word is a commonly used word (such as “the”, “a”, “an”, “in”) that a search engine has been programmed to ignore, both when indexing entries for searching and when retrieving them as the result of a search query.\n",
    "\n",
    "![alt text](https://www.geeksforgeeks.org/wp-content/uploads/Stop-word-removal-using-NLTK.png)"
   ]
  },
  {
   "cell_type": "code",
   "execution_count": 10,
   "metadata": {},
   "outputs": [
    {
     "name": "stdout",
     "output_type": "stream",
     "text": [
      "['i', 'me', 'my', 'myself', 'we', 'our', 'ours', 'ourselves', 'you', \"you're\", \"you've\", \"you'll\", \"you'd\", 'your', 'yours', 'yourself', 'yourselves', 'he', 'him', 'his', 'himself', 'she', \"she's\", 'her', 'hers', 'herself', 'it', \"it's\", 'its', 'itself', 'they', 'them', 'their', 'theirs', 'themselves', 'what', 'which', 'who', 'whom', 'this', 'that', \"that'll\", 'these', 'those', 'am', 'is', 'are', 'was', 'were', 'be', 'been', 'being', 'have', 'has', 'had', 'having', 'do', 'does', 'did', 'doing', 'a', 'an', 'the', 'and', 'but', 'if', 'or', 'because', 'as', 'until', 'while', 'of', 'at', 'by', 'for', 'with', 'about', 'against', 'between', 'into', 'through', 'during', 'before', 'after', 'above', 'below', 'to', 'from', 'up', 'down', 'in', 'out', 'on', 'off', 'over', 'under', 'again', 'further', 'then', 'once', 'here', 'there', 'when', 'where', 'why', 'how', 'all', 'any', 'both', 'each', 'few', 'more', 'most', 'other', 'some', 'such', 'no', 'nor', 'not', 'only', 'own', 'same', 'so', 'than', 'too', 'very', 's', 't', 'can', 'will', 'just', 'don', \"don't\", 'should', \"should've\", 'now', 'd', 'll', 'm', 'o', 're', 've', 'y', 'ain', 'aren', \"aren't\", 'couldn', \"couldn't\", 'didn', \"didn't\", 'doesn', \"doesn't\", 'hadn', \"hadn't\", 'hasn', \"hasn't\", 'haven', \"haven't\", 'isn', \"isn't\", 'ma', 'mightn', \"mightn't\", 'mustn', \"mustn't\", 'needn', \"needn't\", 'shan', \"shan't\", 'shouldn', \"shouldn't\", 'wasn', \"wasn't\", 'weren', \"weren't\", 'won', \"won't\", 'wouldn', \"wouldn't\"]\n"
     ]
    }
   ],
   "source": [
    "import nltk\n",
    "# nltk.download('stopwords')\n",
    "from nltk.corpus import stopwords\n",
    "stop = stopwords.words('english')\n",
    "print(stop)"
   ]
  },
  {
   "cell_type": "code",
   "execution_count": 11,
   "metadata": {},
   "outputs": [
    {
     "data": {
      "text/plain": [
       "True"
      ]
     },
     "execution_count": 11,
     "metadata": {},
     "output_type": "execute_result"
    }
   ],
   "source": [
    "'not' in stop"
   ]
  },
  {
   "cell_type": "markdown",
   "metadata": {},
   "source": [
    "Since not is an important word in the review, thus  **we will not use stopwords removal for the modeling**         \n",
    "#### b) stemming"
   ]
  },
  {
   "cell_type": "code",
   "execution_count": 12,
   "metadata": {},
   "outputs": [],
   "source": [
    "# Stemmers remove morphological affixes from words, leaving only the word stem.\n",
    "from nltk.stem import SnowballStemmer \n",
    "snow = SnowballStemmer('english')"
   ]
  },
  {
   "cell_type": "markdown",
   "metadata": {},
   "source": [
    "let's test a few"
   ]
  },
  {
   "cell_type": "code",
   "execution_count": 13,
   "metadata": {},
   "outputs": [
    {
     "name": "stdout",
     "output_type": "stream",
     "text": [
      "tasti\n",
      "join\n",
      "appl\n"
     ]
    }
   ],
   "source": [
    "print(snow.stem('tasty'))\n",
    "print(snow.stem('joined'))\n",
    "print(snow.stem('apples'))"
   ]
  },
  {
   "cell_type": "markdown",
   "metadata": {},
   "source": [
    "#### c) punctuations removal"
   ]
  },
  {
   "cell_type": "code",
   "execution_count": 14,
   "metadata": {},
   "outputs": [],
   "source": [
    "# remove the punctuation from the sentense\n",
    "import re"
   ]
  },
  {
   "cell_type": "markdown",
   "metadata": {},
   "source": [
    "test to see how it works"
   ]
  },
  {
   "cell_type": "code",
   "execution_count": 15,
   "metadata": {
    "scrolled": true
   },
   "outputs": [],
   "source": [
    "sentence = \"I'd like to have some coffee today!\"\n",
    "sentence = re.sub(r'[\\'|\"|#]', r'', sentence) # remove these punctuation\n",
    "sentence = re.sub(r'[?|!|.|,|)|(|\\|/]',r' ',sentence) # replace these punctuation with space"
   ]
  },
  {
   "cell_type": "code",
   "execution_count": 16,
   "metadata": {},
   "outputs": [
    {
     "data": {
      "text/plain": [
       "'Id like to have some coffee today '"
      ]
     },
     "execution_count": 16,
     "metadata": {},
     "output_type": "execute_result"
    }
   ],
   "source": [
    "str(sentence)"
   ]
  },
  {
   "cell_type": "markdown",
   "metadata": {},
   "source": [
    "### 1.4 Create a Cloud Word"
   ]
  },
  {
   "cell_type": "code",
   "execution_count": 17,
   "metadata": {},
   "outputs": [],
   "source": [
    "def cleanup(sentence):\n",
    "    sentence = str(sentence) #convert the sentence to string\n",
    "    sentence = sentence.lower() #lower the case\n",
    "    sentence = re.sub(r'[\\'|\"|#]', r'', sentence) # remove these punctuation\n",
    "    sentence = re.sub(r'[?|!|.|,|)|(|\\|/]',r' ',sentence) # replace these punctuation with space\n",
    "\n",
    "    tokens = sentence.split()\n",
    "    out = []\n",
    "    for t in tokens:\n",
    "        out.append(snow.stem(t))\n",
    "    out = \" \".join(out) #use space to join all token and make them become one object\n",
    "    out = re.sub(r'[\\'|\"|#]', r'', out) # remove these punctuation\n",
    "    return out     "
   ]
  },
  {
   "cell_type": "markdown",
   "metadata": {},
   "source": [
    "Again, we do not use stopwords removal, since stopwords like 'not' for example ,have strong negative signal.      \n",
    "Let's test a few:"
   ]
  },
  {
   "cell_type": "code",
   "execution_count": 18,
   "metadata": {},
   "outputs": [
    {
     "name": "stdout",
     "output_type": "stream",
     "text": [
      "how are you today\n",
      "not as i expect\n",
      "35\n"
     ]
    }
   ],
   "source": [
    "print(cleanup('How are you today?'))\n",
    "print(cleanup('Not as I expected!'))\n",
    "print(cleanup(35))"
   ]
  },
  {
   "cell_type": "markdown",
   "metadata": {},
   "source": [
    "Let's apply the cleanup on summary variable"
   ]
  },
  {
   "cell_type": "code",
   "execution_count": 19,
   "metadata": {},
   "outputs": [
    {
     "name": "stdout",
     "output_type": "stream",
     "text": [
      "runtime of the program is 147.35504937171936\n"
     ]
    }
   ],
   "source": [
    "import time\n",
    "start = time.time()\n",
    "\n",
    "df['Summary_Clean'] = df['Summary'].apply(cleanup)\n",
    "\n",
    "end = time.time()\n",
    "print(f'runtime of the program is {end - start}')"
   ]
  },
  {
   "cell_type": "code",
   "execution_count": 20,
   "metadata": {},
   "outputs": [],
   "source": [
    "#!pip install wordcloud"
   ]
  },
  {
   "cell_type": "code",
   "execution_count": 21,
   "metadata": {},
   "outputs": [],
   "source": [
    "%matplotlib inline\n",
    "import matplotlib.pyplot as plt\n",
    "import matplotlib as mpl\n",
    "from wordcloud import WordCloud, STOPWORDS\n",
    "\n",
    "mpl.rcParams['figure.figsize']=(8.0,6.0)    #(6.0,4.0)\n",
    "mpl.rcParams['font.size']=12                #10 \n",
    "mpl.rcParams['savefig.dpi']=100             #72 \n",
    "mpl.rcParams['figure.subplot.bottom']=.1 \n",
    "\n",
    "def show_wordcloud(data, title = None):\n",
    "    wordcloud = WordCloud(\n",
    "        background_color='white',\n",
    "        stopwords=None,\n",
    "#        max_words=200,\n",
    "        max_font_size=40, \n",
    "        scale=3,\n",
    "        random_state=1 # chosen at random by flipping a coin; it was heads\n",
    "    ).generate(str(data))\n",
    "    \n",
    "    fig = plt.figure(1, figsize=(8, 8))\n",
    "    plt.axis('off')\n",
    "    if title: \n",
    "        fig.suptitle(title, fontsize=20)\n",
    "        fig.subplots_adjust(top=2.3)\n",
    "\n",
    "    plt.imshow(wordcloud)\n",
    "    plt.show()"
   ]
  },
  {
   "cell_type": "code",
   "execution_count": 22,
   "metadata": {
    "scrolled": true
   },
   "outputs": [
    {
     "data": {
      "image/png": "[encoded data removed]",
      "text/plain": [
       "<Figure size 576x576 with 1 Axes>"
      ]
     },
     "metadata": {
      "needs_background": "light"
     },
     "output_type": "display_data"
    }
   ],
   "source": [
    "show_wordcloud(df['Summary_Clean'], title = \"WordCloud of Summary\")"
   ]
  },
  {
   "cell_type": "code",
   "execution_count": 23,
   "metadata": {
    "scrolled": true
   },
   "outputs": [
    {
     "data": {
      "image/png": "[encoded data removed]",
      "text/plain": [
       "<Figure size 576x576 with 1 Axes>"
      ]
     },
     "metadata": {
      "needs_background": "light"
     },
     "output_type": "display_data"
    }
   ],
   "source": [
    "show_wordcloud(df['Summary_Clean'].loc[df.Score == 5], title = \"Cloudword of Positive Reviews (Score=5)\")"
   ]
  },
  {
   "cell_type": "code",
   "execution_count": 24,
   "metadata": {
    "scrolled": false
   },
   "outputs": [
    {
     "data": {
      "image/png": "[encoded data removed]",
      "text/plain": [
       "<Figure size 576x576 with 1 Axes>"
      ]
     },
     "metadata": {
      "needs_background": "light"
     },
     "output_type": "display_data"
    }
   ],
   "source": [
    "show_wordcloud(df['Summary_Clean'].loc[df.Score == 1], title = \"Cloudword of Negative Reviews (Score=1)\")"
   ]
  },
  {
   "cell_type": "markdown",
   "metadata": {},
   "source": [
    "## 2. Exploratory Data Analysis\n",
    "In this section, we will perform the descriptive statistics and exam any missing value in the data. Then an exploratory data analysis were conducted on variable: score, sentiment, usefulness, userfrequency and relationship between variables. \n",
    "\n",
    "### Summary:\n",
    "- There are 27 \"null\" data in Summary and 1s \"null\", compare to the whole dataset, this consider minor and won't affect the result.\n",
    "- More than half of reviews are 5 scores.\n",
    "- More positive review than negative reviews.\n",
    "- More non-frequent reviewers than frequent reviewers.\n",
    "- Majority reviews are considered very helpful (>75% voted)\n",
    "- Within the reviews being voted, more positive reviews than negative reviews within in very helpful (>75% voted) reviews, and more negative reviews than positive ones in helpful (25%-75% voted) reviews and little helpful (0-25% voted)."
   ]
  },
  {
   "cell_type": "markdown",
   "metadata": {},
   "source": [
    "### 2.1 Descriptive Statistics"
   ]
  },
  {
   "cell_type": "markdown",
   "metadata": {},
   "source": [
    "let's take a look at the dataframe after cleaning and we will conduct EDA on this datafarme"
   ]
  },
  {
   "cell_type": "code",
   "execution_count": 25,
   "metadata": {
    "scrolled": true
   },
   "outputs": [
    {
     "data": {
      "text/html": [
       "<div>\n",
       "<style scoped>\n",
       "    .dataframe tbody tr th:only-of-type {\n",
       "        vertical-align: middle;\n",
       "    }\n",
       "\n",
       "    .dataframe tbody tr th {\n",
       "        vertical-align: top;\n",
       "    }\n",
       "\n",
       "    .dataframe thead th {\n",
       "        text-align: right;\n",
       "    }\n",
       "</style>\n",
       "<table border=\"1\" class=\"dataframe\">\n",
       "  <thead>\n",
       "    <tr style=\"text-align: right;\">\n",
       "      <th></th>\n",
       "      <th>Id</th>\n",
       "      <th>Score</th>\n",
       "      <th>Summary</th>\n",
       "      <th>Sentiment</th>\n",
       "      <th>Usefulness</th>\n",
       "      <th>UserFrequency</th>\n",
       "      <th>Summary_Clean</th>\n",
       "    </tr>\n",
       "  </thead>\n",
       "  <tbody>\n",
       "    <tr>\n",
       "      <th>0</th>\n",
       "      <td>1</td>\n",
       "      <td>5</td>\n",
       "      <td>Good Quality Dog Food</td>\n",
       "      <td>positive</td>\n",
       "      <td>&gt;75%(very helpful)</td>\n",
       "      <td>Not frequent reviewer (0-100 reviews)</td>\n",
       "      <td>good qualiti dog food</td>\n",
       "    </tr>\n",
       "    <tr>\n",
       "      <th>1</th>\n",
       "      <td>2</td>\n",
       "      <td>1</td>\n",
       "      <td>Not as Advertised</td>\n",
       "      <td>negative</td>\n",
       "      <td>=0 (useless)</td>\n",
       "      <td>Not frequent reviewer (0-100 reviews)</td>\n",
       "      <td>not as advertis</td>\n",
       "    </tr>\n",
       "    <tr>\n",
       "      <th>2</th>\n",
       "      <td>3</td>\n",
       "      <td>4</td>\n",
       "      <td>\"Delight\" says it all</td>\n",
       "      <td>positive</td>\n",
       "      <td>&gt;75%(very helpful)</td>\n",
       "      <td>Not frequent reviewer (0-100 reviews)</td>\n",
       "      <td>delight say it all</td>\n",
       "    </tr>\n",
       "    <tr>\n",
       "      <th>3</th>\n",
       "      <td>4</td>\n",
       "      <td>2</td>\n",
       "      <td>Cough Medicine</td>\n",
       "      <td>negative</td>\n",
       "      <td>&gt;75%(very helpful)</td>\n",
       "      <td>Not frequent reviewer (0-100 reviews)</td>\n",
       "      <td>cough medicin</td>\n",
       "    </tr>\n",
       "    <tr>\n",
       "      <th>4</th>\n",
       "      <td>5</td>\n",
       "      <td>5</td>\n",
       "      <td>Great taffy</td>\n",
       "      <td>positive</td>\n",
       "      <td>=0 (useless)</td>\n",
       "      <td>Not frequent reviewer (0-100 reviews)</td>\n",
       "      <td>great taffi</td>\n",
       "    </tr>\n",
       "  </tbody>\n",
       "</table>\n",
       "</div>"
      ],
      "text/plain": [
       "   Id  Score                Summary Sentiment          Usefulness  \\\n",
       "0   1      5  Good Quality Dog Food  positive  >75%(very helpful)   \n",
       "1   2      1      Not as Advertised  negative        =0 (useless)   \n",
       "2   3      4  \"Delight\" says it all  positive  >75%(very helpful)   \n",
       "3   4      2         Cough Medicine  negative  >75%(very helpful)   \n",
       "4   5      5            Great taffy  positive        =0 (useless)   \n",
       "\n",
       "                           UserFrequency          Summary_Clean  \n",
       "0  Not frequent reviewer (0-100 reviews)  good qualiti dog food  \n",
       "1  Not frequent reviewer (0-100 reviews)        not as advertis  \n",
       "2  Not frequent reviewer (0-100 reviews)     delight say it all  \n",
       "3  Not frequent reviewer (0-100 reviews)          cough medicin  \n",
       "4  Not frequent reviewer (0-100 reviews)            great taffi  "
      ]
     },
     "execution_count": 25,
     "metadata": {},
     "output_type": "execute_result"
    }
   ],
   "source": [
    "df.head()"
   ]
  },
  {
   "cell_type": "code",
   "execution_count": 26,
   "metadata": {},
   "outputs": [],
   "source": [
    "import matplotlib.pyplot as plt\n",
    "import seaborn as sns"
   ]
  },
  {
   "cell_type": "code",
   "execution_count": 27,
   "metadata": {
    "scrolled": true
   },
   "outputs": [
    {
     "data": {
      "text/plain": [
       "(568454, 7)"
      ]
     },
     "execution_count": 27,
     "metadata": {},
     "output_type": "execute_result"
    }
   ],
   "source": [
    "df.shape # data shape"
   ]
  },
  {
   "cell_type": "code",
   "execution_count": 28,
   "metadata": {
    "scrolled": true
   },
   "outputs": [
    {
     "data": {
      "text/plain": [
       "Id               568454\n",
       "Score                 5\n",
       "Summary          295742\n",
       "Sentiment             2\n",
       "Usefulness            4\n",
       "UserFrequency         2\n",
       "Summary_Clean    251501\n",
       "dtype: int64"
      ]
     },
     "execution_count": 28,
     "metadata": {},
     "output_type": "execute_result"
    }
   ],
   "source": [
    "df.nunique() # check num of unique items per column"
   ]
  },
  {
   "cell_type": "code",
   "execution_count": 29,
   "metadata": {
    "scrolled": false
   },
   "outputs": [],
   "source": [
    "#df.isnull().any()"
   ]
  },
  {
   "cell_type": "code",
   "execution_count": 30,
   "metadata": {
    "scrolled": true
   },
   "outputs": [
    {
     "data": {
      "text/plain": [
       "Id                0\n",
       "Score             0\n",
       "Summary          27\n",
       "Sentiment         0\n",
       "Usefulness        0\n",
       "UserFrequency     0\n",
       "Summary_Clean     0\n",
       "dtype: int64"
      ]
     },
     "execution_count": 30,
     "metadata": {},
     "output_type": "execute_result"
    }
   ],
   "source": [
    "df.isnull().sum()"
   ]
  },
  {
   "cell_type": "code",
   "execution_count": 31,
   "metadata": {
    "scrolled": true
   },
   "outputs": [
    {
     "data": {
      "text/plain": [
       "count    568454.000000\n",
       "mean          4.183199\n",
       "std           1.310436\n",
       "min           1.000000\n",
       "25%           4.000000\n",
       "50%           5.000000\n",
       "75%           5.000000\n",
       "max           5.000000\n",
       "Name: Score, dtype: float64"
      ]
     },
     "execution_count": 31,
     "metadata": {},
     "output_type": "execute_result"
    }
   ],
   "source": [
    "df['Score'].describe()"
   ]
  },
  {
   "cell_type": "markdown",
   "metadata": {},
   "source": [
    "There is 27 records in Summary that is missing. However, consider the amount of dataset we have. We shall not worry about the missing value in Summary variable."
   ]
  },
  {
   "cell_type": "markdown",
   "metadata": {},
   "source": [
    "### 2.2 Score Analysis"
   ]
  },
  {
   "cell_type": "code",
   "execution_count": 32,
   "metadata": {
    "scrolled": true
   },
   "outputs": [
    {
     "name": "stdout",
     "output_type": "stream",
     "text": [
      "5    363122\n",
      "4     80655\n",
      "1     52268\n",
      "3     42640\n",
      "2     29769\n",
      "Name: Score, dtype: int64\n"
     ]
    }
   ],
   "source": [
    "print(df['Score'].value_counts())"
   ]
  },
  {
   "cell_type": "code",
   "execution_count": 33,
   "metadata": {},
   "outputs": [
    {
     "data": {
      "image/png": "[encoded data removed]",
      "text/plain": [
       "<Figure size 576x432 with 1 Axes>"
      ]
     },
     "metadata": {
      "needs_background": "light"
     },
     "output_type": "display_data"
    }
   ],
   "source": [
    "plt.figure()\n",
    "sns.countplot(df['Score'])\n",
    "plt.xlabel('Distribution of Score')\n",
    "plt.show()"
   ]
  },
  {
   "cell_type": "markdown",
   "metadata": {},
   "source": [
    "More than half of the reviews are rated 5 scores."
   ]
  },
  {
   "cell_type": "markdown",
   "metadata": {},
   "source": [
    "### 2.3 Sentiment Analysis"
   ]
  },
  {
   "cell_type": "code",
   "execution_count": 34,
   "metadata": {
    "scrolled": true
   },
   "outputs": [
    {
     "name": "stdout",
     "output_type": "stream",
     "text": [
      "positive    443777\n",
      "negative    124677\n",
      "Name: Sentiment, dtype: int64\n"
     ]
    }
   ],
   "source": [
    "print(df['Sentiment'].value_counts())"
   ]
  },
  {
   "cell_type": "code",
   "execution_count": 35,
   "metadata": {},
   "outputs": [
    {
     "data": {
      "image/png": "[encoded data removed]",
      "text/plain": [
       "<Figure size 576x432 with 1 Axes>"
      ]
     },
     "metadata": {
      "needs_background": "light"
     },
     "output_type": "display_data"
    }
   ],
   "source": [
    "plt.figure()\n",
    "sns.countplot(df['Sentiment'])\n",
    "plt.xlabel('Distribution of Sentiment')\n",
    "plt.show()"
   ]
  },
  {
   "cell_type": "markdown",
   "metadata": {},
   "source": [
    "Majority reviews are consider positive"
   ]
  },
  {
   "cell_type": "markdown",
   "metadata": {},
   "source": [
    "### 2.4 Usefulness Analysis"
   ]
  },
  {
   "cell_type": "code",
   "execution_count": 36,
   "metadata": {
    "scrolled": false
   },
   "outputs": [
    {
     "data": {
      "text/plain": [
       "=0 (useless)             270052\n",
       ">75%(very helpful)       202836\n",
       "25%-75% (helpful)         57286\n",
       "<25% (little helpful)     38280\n",
       "Name: Usefulness, dtype: int64"
      ]
     },
     "execution_count": 36,
     "metadata": {},
     "output_type": "execute_result"
    }
   ],
   "source": [
    "df.Usefulness.value_counts()"
   ]
  },
  {
   "cell_type": "code",
   "execution_count": 37,
   "metadata": {
    "scrolled": false
   },
   "outputs": [
    {
     "data": {
      "image/png": "[encoded data removed]",
      "text/plain": [
       "<Figure size 576x432 with 1 Axes>"
      ]
     },
     "metadata": {
      "needs_background": "light"
     },
     "output_type": "display_data"
    }
   ],
   "source": [
    "plt.figure()\n",
    "sns.countplot(df['Usefulness'])\n",
    "plt.xlabel('Distribution of Usefulness')\n",
    "plt.show()"
   ]
  },
  {
   "cell_type": "markdown",
   "metadata": {},
   "source": [
    "Within the reviewed being voted, 75% of the review are considered helpful."
   ]
  },
  {
   "cell_type": "markdown",
   "metadata": {},
   "source": [
    "### 2.5 Reviewers analysis"
   ]
  },
  {
   "cell_type": "code",
   "execution_count": 38,
   "metadata": {},
   "outputs": [
    {
     "data": {
      "text/plain": [
       "Not frequent reviewer (0-100 reviews)    558778\n",
       "frequent reviewer (>100 reviews)           9676\n",
       "Name: UserFrequency, dtype: int64"
      ]
     },
     "execution_count": 38,
     "metadata": {},
     "output_type": "execute_result"
    }
   ],
   "source": [
    "df.UserFrequency.value_counts()"
   ]
  },
  {
   "cell_type": "code",
   "execution_count": 39,
   "metadata": {},
   "outputs": [
    {
     "data": {
      "image/png": "[encoded data removed]",
      "text/plain": [
       "<Figure size 576x432 with 1 Axes>"
      ]
     },
     "metadata": {
      "needs_background": "light"
     },
     "output_type": "display_data"
    }
   ],
   "source": [
    "sns.countplot(df.UserFrequency)\n",
    "plt.xlabel('Distribution of UserFrequency')\n",
    "plt.show()"
   ]
  },
  {
   "cell_type": "markdown",
   "metadata": {},
   "source": [
    "There are more non-frequent reviewers than frequent reviewers"
   ]
  },
  {
   "cell_type": "markdown",
   "metadata": {},
   "source": [
    "### 2.6 Relationship analysis between variables\n",
    "#### a) Are positive reveiws more helpful?"
   ]
  },
  {
   "cell_type": "code",
   "execution_count": 40,
   "metadata": {},
   "outputs": [],
   "source": [
    "import matplotlib.pyplot as plt\n",
    "import seaborn as sns"
   ]
  },
  {
   "cell_type": "code",
   "execution_count": 41,
   "metadata": {
    "scrolled": false
   },
   "outputs": [
    {
     "data": {
      "image/png": "[encoded data removed]",
      "text/plain": [
       "<Figure size 576x432 with 1 Axes>"
      ]
     },
     "metadata": {
      "needs_background": "light"
     },
     "output_type": "display_data"
    }
   ],
   "source": [
    "sns.countplot(x = df['Usefulness'], hue = df['Sentiment'])\n",
    "\n",
    "plt.xlabel('Sentiment vs helpfulness')\n",
    "plt.show()"
   ]
  },
  {
   "cell_type": "markdown",
   "metadata": {},
   "source": [
    "Within the reviews being voted, more positive reviews than negative reviews within in very helpful (>75% voted) reviews, and more negative reviews than positive ones in helpful (25%-75% voted) reviews and little helpful (0-25% voted)."
   ]
  },
  {
   "cell_type": "markdown",
   "metadata": {},
   "source": [
    "#### b) Are frequent reviewers more helpful? "
   ]
  },
  {
   "cell_type": "code",
   "execution_count": 42,
   "metadata": {},
   "outputs": [
    {
     "data": {
      "image/png": "[encoded data removed]",
      "text/plain": [
       "<Figure size 576x432 with 1 Axes>"
      ]
     },
     "metadata": {
      "needs_background": "light"
     },
     "output_type": "display_data"
    }
   ],
   "source": [
    "sns.countplot(x = df['Usefulness'], hue = df['UserFrequency'])\n",
    "\n",
    "plt.xlabel('UserFrequency vs helpfulness')\n",
    "plt.show()"
   ]
  },
  {
   "cell_type": "markdown",
   "metadata": {},
   "source": [
    "No matter the usefulness of the review, more no-frequent reviewers's reviews than frequent reviewers' reviews."
   ]
  },
  {
   "cell_type": "markdown",
   "metadata": {},
   "source": [
    "### 3. Predictive Modeling        \n",
    "In this section, we will:              \n",
    "- split the dataset, \n",
    "- convert text into vectors \n",
    "- build model \n",
    "\n",
    "### Summary  \n",
    "We first split the data into train and test dataset.                      \n",
    "Three methods - uni-gram bag of words, bi-gram bag of words and tf-idf - were applied to covert the test and train datasets into vectors.              \n",
    "Then we use logistic regression and random forest regression method to create the prediction model.                 \n",
    "### 3.1 Test Train Data Split               \n",
    "As we only want to get the global sentiment of the recommendations (positive or negative), we will purposefully ignore all Scores equal to 3. If the score id above 3, then the recommendation wil be set to \"postive\". Otherwise, it will be set to \"negative\".             \n",
    "\n",
    "The data will be split into an training set and a test set with a test set ratio of 0.2"
   ]
  },
  {
   "cell_type": "code",
   "execution_count": 43,
   "metadata": {
    "scrolled": true
   },
   "outputs": [
    {
     "name": "stdout",
     "output_type": "stream",
     "text": [
      "454763 items in training data, 113691 items in test data\n"
     ]
    }
   ],
   "source": [
    "from sklearn.model_selection import train_test_split\n",
    "train, test = train_test_split(df, test_size =0.2, random_state = 1)\n",
    "print('%d items in training data, %d items in test data' % (len(train), len(test)))"
   ]
  },
  {
   "cell_type": "markdown",
   "metadata": {},
   "source": [
    "let's take a look at train data and test data"
   ]
  },
  {
   "cell_type": "code",
   "execution_count": 44,
   "metadata": {},
   "outputs": [
    {
     "data": {
      "text/html": [
       "<div>\n",
       "<style scoped>\n",
       "    .dataframe tbody tr th:only-of-type {\n",
       "        vertical-align: middle;\n",
       "    }\n",
       "\n",
       "    .dataframe tbody tr th {\n",
       "        vertical-align: top;\n",
       "    }\n",
       "\n",
       "    .dataframe thead th {\n",
       "        text-align: right;\n",
       "    }\n",
       "</style>\n",
       "<table border=\"1\" class=\"dataframe\">\n",
       "  <thead>\n",
       "    <tr style=\"text-align: right;\">\n",
       "      <th></th>\n",
       "      <th>Id</th>\n",
       "      <th>Score</th>\n",
       "      <th>Summary</th>\n",
       "      <th>Sentiment</th>\n",
       "      <th>Usefulness</th>\n",
       "      <th>UserFrequency</th>\n",
       "      <th>Summary_Clean</th>\n",
       "    </tr>\n",
       "  </thead>\n",
       "  <tbody>\n",
       "    <tr>\n",
       "      <th>0</th>\n",
       "      <td>308347</td>\n",
       "      <td>5</td>\n",
       "      <td>The best espresso i've ever had</td>\n",
       "      <td>positive</td>\n",
       "      <td>&gt;75%(very helpful)</td>\n",
       "      <td>Not frequent reviewer (0-100 reviews)</td>\n",
       "      <td>the best espresso ive ever had</td>\n",
       "    </tr>\n",
       "    <tr>\n",
       "      <th>1</th>\n",
       "      <td>74067</td>\n",
       "      <td>3</td>\n",
       "      <td>False advertising, but tasty</td>\n",
       "      <td>negative</td>\n",
       "      <td>=0 (useless)</td>\n",
       "      <td>Not frequent reviewer (0-100 reviews)</td>\n",
       "      <td>fals advertis but tasti</td>\n",
       "    </tr>\n",
       "    <tr>\n",
       "      <th>2</th>\n",
       "      <td>125393</td>\n",
       "      <td>1</td>\n",
       "      <td>Deadly treat</td>\n",
       "      <td>negative</td>\n",
       "      <td>25%-75% (helpful)</td>\n",
       "      <td>Not frequent reviewer (0-100 reviews)</td>\n",
       "      <td>dead treat</td>\n",
       "    </tr>\n",
       "    <tr>\n",
       "      <th>3</th>\n",
       "      <td>173888</td>\n",
       "      <td>3</td>\n",
       "      <td>Too Strong</td>\n",
       "      <td>negative</td>\n",
       "      <td>&lt;25% (little helpful)</td>\n",
       "      <td>Not frequent reviewer (0-100 reviews)</td>\n",
       "      <td>too strong</td>\n",
       "    </tr>\n",
       "    <tr>\n",
       "      <th>4</th>\n",
       "      <td>484232</td>\n",
       "      <td>4</td>\n",
       "      <td>Very Good Tea</td>\n",
       "      <td>positive</td>\n",
       "      <td>=0 (useless)</td>\n",
       "      <td>Not frequent reviewer (0-100 reviews)</td>\n",
       "      <td>veri good tea</td>\n",
       "    </tr>\n",
       "  </tbody>\n",
       "</table>\n",
       "</div>"
      ],
      "text/plain": [
       "       Id  Score                          Summary Sentiment  \\\n",
       "0  308347      5  The best espresso i've ever had  positive   \n",
       "1   74067      3     False advertising, but tasty  negative   \n",
       "2  125393      1                     Deadly treat  negative   \n",
       "3  173888      3                       Too Strong  negative   \n",
       "4  484232      4                    Very Good Tea  positive   \n",
       "\n",
       "              Usefulness                          UserFrequency  \\\n",
       "0     >75%(very helpful)  Not frequent reviewer (0-100 reviews)   \n",
       "1           =0 (useless)  Not frequent reviewer (0-100 reviews)   \n",
       "2      25%-75% (helpful)  Not frequent reviewer (0-100 reviews)   \n",
       "3  <25% (little helpful)  Not frequent reviewer (0-100 reviews)   \n",
       "4           =0 (useless)  Not frequent reviewer (0-100 reviews)   \n",
       "\n",
       "                    Summary_Clean  \n",
       "0  the best espresso ive ever had  \n",
       "1         fals advertis but tasti  \n",
       "2                      dead treat  \n",
       "3                      too strong  \n",
       "4                   veri good tea  "
      ]
     },
     "execution_count": 44,
     "metadata": {},
     "output_type": "execute_result"
    }
   ],
   "source": [
    "train = train.reset_index(drop = True)\n",
    "train.head()"
   ]
  },
  {
   "cell_type": "code",
   "execution_count": 45,
   "metadata": {},
   "outputs": [
    {
     "data": {
      "text/html": [
       "<div>\n",
       "<style scoped>\n",
       "    .dataframe tbody tr th:only-of-type {\n",
       "        vertical-align: middle;\n",
       "    }\n",
       "\n",
       "    .dataframe tbody tr th {\n",
       "        vertical-align: top;\n",
       "    }\n",
       "\n",
       "    .dataframe thead th {\n",
       "        text-align: right;\n",
       "    }\n",
       "</style>\n",
       "<table border=\"1\" class=\"dataframe\">\n",
       "  <thead>\n",
       "    <tr style=\"text-align: right;\">\n",
       "      <th></th>\n",
       "      <th>Id</th>\n",
       "      <th>Score</th>\n",
       "      <th>Summary</th>\n",
       "      <th>Sentiment</th>\n",
       "      <th>Usefulness</th>\n",
       "      <th>UserFrequency</th>\n",
       "      <th>Summary_Clean</th>\n",
       "    </tr>\n",
       "  </thead>\n",
       "  <tbody>\n",
       "    <tr>\n",
       "      <th>0</th>\n",
       "      <td>288313</td>\n",
       "      <td>5</td>\n",
       "      <td>Cherry Pie Larabar</td>\n",
       "      <td>positive</td>\n",
       "      <td>=0 (useless)</td>\n",
       "      <td>Not frequent reviewer (0-100 reviews)</td>\n",
       "      <td>cherri pie larabar</td>\n",
       "    </tr>\n",
       "    <tr>\n",
       "      <th>1</th>\n",
       "      <td>431727</td>\n",
       "      <td>5</td>\n",
       "      <td>Melitta Coffee</td>\n",
       "      <td>positive</td>\n",
       "      <td>=0 (useless)</td>\n",
       "      <td>Not frequent reviewer (0-100 reviews)</td>\n",
       "      <td>melitta coffe</td>\n",
       "    </tr>\n",
       "    <tr>\n",
       "      <th>2</th>\n",
       "      <td>110312</td>\n",
       "      <td>5</td>\n",
       "      <td>great treat</td>\n",
       "      <td>positive</td>\n",
       "      <td>=0 (useless)</td>\n",
       "      <td>Not frequent reviewer (0-100 reviews)</td>\n",
       "      <td>great treat</td>\n",
       "    </tr>\n",
       "    <tr>\n",
       "      <th>3</th>\n",
       "      <td>91856</td>\n",
       "      <td>5</td>\n",
       "      <td>Daily Calming</td>\n",
       "      <td>positive</td>\n",
       "      <td>=0 (useless)</td>\n",
       "      <td>Not frequent reviewer (0-100 reviews)</td>\n",
       "      <td>daili calm</td>\n",
       "    </tr>\n",
       "    <tr>\n",
       "      <th>4</th>\n",
       "      <td>338856</td>\n",
       "      <td>5</td>\n",
       "      <td>Best Canned Artichokes Out There!</td>\n",
       "      <td>positive</td>\n",
       "      <td>25%-75% (helpful)</td>\n",
       "      <td>Not frequent reviewer (0-100 reviews)</td>\n",
       "      <td>best can artichok out there</td>\n",
       "    </tr>\n",
       "  </tbody>\n",
       "</table>\n",
       "</div>"
      ],
      "text/plain": [
       "       Id  Score                            Summary Sentiment  \\\n",
       "0  288313      5                 Cherry Pie Larabar  positive   \n",
       "1  431727      5                     Melitta Coffee  positive   \n",
       "2  110312      5                        great treat  positive   \n",
       "3   91856      5                      Daily Calming  positive   \n",
       "4  338856      5  Best Canned Artichokes Out There!  positive   \n",
       "\n",
       "          Usefulness                          UserFrequency  \\\n",
       "0       =0 (useless)  Not frequent reviewer (0-100 reviews)   \n",
       "1       =0 (useless)  Not frequent reviewer (0-100 reviews)   \n",
       "2       =0 (useless)  Not frequent reviewer (0-100 reviews)   \n",
       "3       =0 (useless)  Not frequent reviewer (0-100 reviews)   \n",
       "4  25%-75% (helpful)  Not frequent reviewer (0-100 reviews)   \n",
       "\n",
       "                 Summary_Clean  \n",
       "0           cherri pie larabar  \n",
       "1                melitta coffe  \n",
       "2                  great treat  \n",
       "3                   daili calm  \n",
       "4  best can artichok out there  "
      ]
     },
     "execution_count": 45,
     "metadata": {},
     "output_type": "execute_result"
    }
   ],
   "source": [
    "test = test.reset_index(drop = True)\n",
    "test.head()"
   ]
  },
  {
   "cell_type": "markdown",
   "metadata": {},
   "source": [
    "### 3.2 Convert text to vector               \n",
    "There are multiple ways to convert text to vector. In here, I will present 3 ways     \n",
    "a) Uni-gram bag of words     \n",
    "b) Bi-gram bag of words      \n",
    "c) tf-idf"
   ]
  },
  {
   "cell_type": "markdown",
   "metadata": {},
   "source": [
    "- Bag of Words (BOW)\n",
    "The bag-of-words represents the frequency of occurence of each word used as a feature in the document.                 \n",
    "n-gram means a contiguous sequence of n items. Thus n-gram BOW represent the frequency of occurence of n contiguous word appeared in the document. In this project, only 1-gram and 2-gram were applied. Thus, uni-gram represent the frequency of each words appeared in the document, bi-gram represent a 2 contiguous words appeared in the document.     \n",
    "             \n",
    "             \n",
    "- TF-IDF\n",
    "Tf-Idf is an information retrieval technique that weighs a term's frequency (TF) and its inverse document frequency (IDF). Each word or term has its respective TF and IDF score. The product of the TF and IDF scores of a term is called the TF*IDF weight of that term\n",
    "\n",
    "![alt text](https://1.bp.blogspot.com/-tnzPA6dDtTU/Vw6EWm_PjCI/AAAAAAABDwI/JatHtUJb4fsce9E-Ns5t02_nakFtGrsugCLcB/s1600/%25E8%259E%25A2%25E5%25B9%2595%25E5%25BF%25AB%25E7%2585%25A7%2B2016-04-14%2B%25E4%25B8%258A%25E5%258D%25881.39.07.png)"
   ]
  },
  {
   "cell_type": "code",
   "execution_count": 46,
   "metadata": {},
   "outputs": [],
   "source": [
    "from sklearn.feature_extraction.text import CountVectorizer"
   ]
  },
  {
   "cell_type": "code",
   "execution_count": 47,
   "metadata": {},
   "outputs": [
    {
     "data": {
      "text/plain": [
       "array(['the best espresso ive ever had', 'fals advertis but tasti',\n",
       "       'dead treat', ..., 'best waffel mix ever', 'tri it youll love it',\n",
       "       'not worth the money'], dtype=object)"
      ]
     },
     "execution_count": 47,
     "metadata": {},
     "output_type": "execute_result"
    }
   ],
   "source": [
    "train['Summary_Clean'].values"
   ]
  },
  {
   "cell_type": "markdown",
   "metadata": {},
   "source": [
    "#### a) Uni-gram bag of words"
   ]
  },
  {
   "cell_type": "code",
   "execution_count": 48,
   "metadata": {},
   "outputs": [],
   "source": [
    "uni_gram = CountVectorizer(min_df = 5, binary = True) # only use keyword which shows up more than 5 times. \n",
    "uni_gram_vectors_train = uni_gram.fit_transform(train['Summary_Clean'].values)\n",
    "uni_gram_vectors_test = uni_gram.transform(test['Summary_Clean'].values)"
   ]
  },
  {
   "cell_type": "code",
   "execution_count": 49,
   "metadata": {},
   "outputs": [
    {
     "data": {
      "text/plain": [
       "(454763, 8173)"
      ]
     },
     "execution_count": 49,
     "metadata": {},
     "output_type": "execute_result"
    }
   ],
   "source": [
    "uni_gram_vectors_train.shape"
   ]
  },
  {
   "cell_type": "code",
   "execution_count": 50,
   "metadata": {},
   "outputs": [
    {
     "data": {
      "text/plain": [
       "['zoe',\n",
       " 'zola',\n",
       " 'zombi',\n",
       " 'zone',\n",
       " 'zoo',\n",
       " 'zoom',\n",
       " 'zot',\n",
       " 'zotz',\n",
       " 'zsweet',\n",
       " 'zuke']"
      ]
     },
     "execution_count": 50,
     "metadata": {},
     "output_type": "execute_result"
    }
   ],
   "source": [
    "uni_gram_feature = uni_gram.get_feature_names()\n",
    "uni_gram_feature[-10:] #have a peek of last 10 uni_gram features"
   ]
  },
  {
   "cell_type": "markdown",
   "metadata": {},
   "source": [
    "#### b) Bi-gram BOW"
   ]
  },
  {
   "cell_type": "code",
   "execution_count": 51,
   "metadata": {},
   "outputs": [],
   "source": [
    "                                        # 1 means the minimum is unigram, 2 means max is bigrams, \n",
    "bi_gram = CountVectorizer(ngram_range=(1,2), min_df = 5, binary = True) \n",
    "bi_gram_vectors_train = bi_gram.fit_transform(train['Summary_Clean'].values)\n",
    "bi_gram_vectors_test = bi_gram.transform(test['Summary_Clean'].values)"
   ]
  },
  {
   "cell_type": "code",
   "execution_count": 52,
   "metadata": {},
   "outputs": [
    {
     "data": {
      "text/plain": [
       "(454763, 46964)"
      ]
     },
     "execution_count": 52,
     "metadata": {},
     "output_type": "execute_result"
    }
   ],
   "source": [
    "bi_gram_vectors_train.shape"
   ]
  },
  {
   "cell_type": "code",
   "execution_count": 53,
   "metadata": {
    "scrolled": true
   },
   "outputs": [
    {
     "data": {
      "text/plain": [
       "['zuke',\n",
       " 'zuke chicken',\n",
       " 'zuke dad',\n",
       " 'zuke dog',\n",
       " 'zuke hip',\n",
       " 'zuke is',\n",
       " 'zuke mini',\n",
       " 'zuke peanut',\n",
       " 'zuke product',\n",
       " 'zuke treat']"
      ]
     },
     "execution_count": 53,
     "metadata": {},
     "output_type": "execute_result"
    }
   ],
   "source": [
    "bi_gram_features = bi_gram.get_feature_names()\n",
    "bi_gram_features[-10:] #have a peek of last 10 bi_gram features"
   ]
  },
  {
   "cell_type": "markdown",
   "metadata": {},
   "source": [
    "#### c) tf-idf"
   ]
  },
  {
   "cell_type": "code",
   "execution_count": 54,
   "metadata": {},
   "outputs": [],
   "source": [
    "from sklearn.feature_extraction.text import TfidfVectorizer\n",
    "tfidf = TfidfVectorizer(ngram_range=(1,2),min_df = 5)\n",
    "tfidf_vectors_train = tfidf.fit_transform(train['Summary_Clean'].values)\n",
    "tfidf_vectors_test = tfidf.transform(test['Summary_Clean'].values)"
   ]
  },
  {
   "cell_type": "code",
   "execution_count": 55,
   "metadata": {},
   "outputs": [
    {
     "data": {
      "text/plain": [
       "(454763, 46964)"
      ]
     },
     "execution_count": 55,
     "metadata": {},
     "output_type": "execute_result"
    }
   ],
   "source": [
    "tfidf_vectors_train.shape"
   ]
  },
  {
   "cell_type": "code",
   "execution_count": 56,
   "metadata": {},
   "outputs": [
    {
     "data": {
      "text/plain": [
       "['zuke',\n",
       " 'zuke chicken',\n",
       " 'zuke dad',\n",
       " 'zuke dog',\n",
       " 'zuke hip',\n",
       " 'zuke is',\n",
       " 'zuke mini',\n",
       " 'zuke peanut',\n",
       " 'zuke product',\n",
       " 'zuke treat']"
      ]
     },
     "execution_count": 56,
     "metadata": {},
     "output_type": "execute_result"
    }
   ],
   "source": [
    "tfidf_features = tfidf.get_feature_names()\n",
    "tfidf_features[-10:]"
   ]
  },
  {
   "cell_type": "markdown",
   "metadata": {},
   "source": [
    "Now let's build model"
   ]
  },
  {
   "cell_type": "code",
   "execution_count": 57,
   "metadata": {},
   "outputs": [],
   "source": [
    "prediction = dict()\n",
    "prob = dict()"
   ]
  },
  {
   "cell_type": "markdown",
   "metadata": {},
   "source": [
    "### 3.3 Logistic Regression\n",
    "#### a) Using uni-gram BOW"
   ]
  },
  {
   "cell_type": "code",
   "execution_count": 58,
   "metadata": {},
   "outputs": [],
   "source": [
    "from sklearn import linear_model\n",
    "from sklearn.linear_model import LogisticRegression"
   ]
  },
  {
   "cell_type": "code",
   "execution_count": 59,
   "metadata": {},
   "outputs": [],
   "source": [
    "logreg_uni_gram = LogisticRegression(max_iter = 1000)\n",
    "#Receive warning that total of iterations reached limit, thus set the max_iter (default is 1000)\n",
    "#build model\n",
    "logreg_uni_gram_model = logreg_uni_gram.fit(uni_gram_vectors_train, train['Sentiment'])\n",
    "#use model on test data for prediction\n",
    "prediction['logreg_uni_gram'] = logreg_uni_gram_model.predict(uni_gram_vectors_test)\n",
    "prob['logreg_uni_gram'] = logreg_uni_gram_model.predict_proba(uni_gram_vectors_test)"
   ]
  },
  {
   "cell_type": "code",
   "execution_count": 60,
   "metadata": {},
   "outputs": [
    {
     "name": "stdout",
     "output_type": "stream",
     "text": [
      "test data using Uni_gram BOW\n",
      "positive    88777\n",
      "negative    24914\n",
      "Name: Sentiment, dtype: int64\n",
      "------------------------------\n",
      "predicted data\n",
      "Counter({'positive': 93947, 'negative': 19744})\n"
     ]
    }
   ],
   "source": [
    "import collections\n",
    "print('test data using Uni_gram BOW')\n",
    "print(test['Sentiment'].value_counts())\n",
    "print('------------------------------')\n",
    "print('predicted data')\n",
    "print(collections.Counter(prediction['logreg_uni_gram']))"
   ]
  },
  {
   "cell_type": "markdown",
   "metadata": {},
   "source": [
    "#### b) Using bi_gram BOW"
   ]
  },
  {
   "cell_type": "code",
   "execution_count": 61,
   "metadata": {},
   "outputs": [],
   "source": [
    "logreg_bi_gram = LogisticRegression(max_iter = 1000)\n",
    "#Receive warning that total of iterations reached limit, thus set the max_iter (default is 1000)\n",
    "#build model\n",
    "logreg_bi_gram_model = logreg_bi_gram.fit(bi_gram_vectors_train, train['Sentiment'])\n",
    "#use model on test data for prediction\n",
    "prediction['logreg_bi_gram'] = logreg_bi_gram_model.predict(bi_gram_vectors_test)\n",
    "prob['logreg_bi_gram'] = logreg_bi_gram_model.predict_proba(bi_gram_vectors_test)"
   ]
  },
  {
   "cell_type": "code",
   "execution_count": 62,
   "metadata": {},
   "outputs": [
    {
     "name": "stdout",
     "output_type": "stream",
     "text": [
      "test data using Bi_gram BOW\n",
      "positive    88777\n",
      "negative    24914\n",
      "Name: Sentiment, dtype: int64\n",
      "------------------------------\n",
      "predicted data\n",
      "Counter({'positive': 92153, 'negative': 21538})\n"
     ]
    }
   ],
   "source": [
    "import collections\n",
    "print('test data using Bi_gram BOW')\n",
    "print(test['Sentiment'].value_counts())\n",
    "print('------------------------------')\n",
    "print('predicted data')\n",
    "print(collections.Counter(prediction['logreg_bi_gram']))"
   ]
  },
  {
   "cell_type": "markdown",
   "metadata": {},
   "source": [
    "#### c) Using tf-idf"
   ]
  },
  {
   "cell_type": "code",
   "execution_count": 63,
   "metadata": {},
   "outputs": [],
   "source": [
    "logreg_tfidf = LogisticRegression(max_iter = 1000)\n",
    "#Receive warning that total of iterations reached limit, thus set the max_iter (default is 1000)\n",
    "#build model\n",
    "logreg_tfidf_model = logreg_tfidf.fit(tfidf_vectors_train, train['Sentiment'])\n",
    "#use model on test data for prediction\n",
    "prediction['logreg_tfidf'] = logreg_tfidf_model.predict(tfidf_vectors_test)\n",
    "prob['logreg_tfidf'] = logreg_tfidf_model.predict_proba(tfidf_vectors_test)"
   ]
  },
  {
   "cell_type": "code",
   "execution_count": 64,
   "metadata": {},
   "outputs": [
    {
     "name": "stdout",
     "output_type": "stream",
     "text": [
      "test data using tfidf\n",
      "positive    88777\n",
      "negative    24914\n",
      "Name: Sentiment, dtype: int64\n",
      "------------------------------\n",
      "predicted data\n",
      "Counter({'positive': 92807, 'negative': 20884})\n"
     ]
    }
   ],
   "source": [
    "import collections\n",
    "print('test data using tfidf')\n",
    "print(test['Sentiment'].value_counts())\n",
    "print('------------------------------')\n",
    "print('predicted data')\n",
    "print(collections.Counter(prediction['logreg_tfidf']))"
   ]
  },
  {
   "cell_type": "markdown",
   "metadata": {},
   "source": [
    "### 3.4 Random Forest Regression                  \n",
    "#### a) Using uni-gram BOW"
   ]
  },
  {
   "cell_type": "code",
   "execution_count": 65,
   "metadata": {},
   "outputs": [
    {
     "name": "stdout",
     "output_type": "stream",
     "text": [
      "Elapsed time: 920.265625\n"
     ]
    }
   ],
   "source": [
    "from sklearn.ensemble import RandomForestClassifier\n",
    "from time import process_time\n",
    "t2_start=process_time()\n",
    "\n",
    "#build model\n",
    "rf_uni_gram = RandomForestClassifier(max_depth=100)\n",
    "rf_uni_gram_model=rf_uni_gram.fit(uni_gram_vectors_train, train['Sentiment'].values)\n",
    "\n",
    "#use model for prdiction\n",
    "prediction['rf_uni_gram'] = rf_uni_gram_model.predict(uni_gram_vectors_test)\n",
    "prob['rf_uni_gram']=rf_uni_gram_model.predict_proba(uni_gram_vectors_test)\n",
    "\n",
    "t2_stop=process_time()\n",
    "print('Elapsed time:', t2_stop-t2_start)"
   ]
  },
  {
   "cell_type": "code",
   "execution_count": 66,
   "metadata": {},
   "outputs": [
    {
     "name": "stdout",
     "output_type": "stream",
     "text": [
      "test data\n",
      "positive    88777\n",
      "negative    24914\n",
      "Name: Sentiment, dtype: int64\n",
      "-------------\n",
      "predicted data\n",
      "Counter({'positive': 98981, 'negative': 14710})\n"
     ]
    }
   ],
   "source": [
    "import collections\n",
    "print('test data')\n",
    "print(test['Sentiment'].value_counts())\n",
    "print('-------------')\n",
    "print('predicted data')\n",
    "print(collections.Counter(prediction['rf_uni_gram']))"
   ]
  },
  {
   "cell_type": "markdown",
   "metadata": {},
   "source": [
    "#### b) Using bi_gram BOW"
   ]
  },
  {
   "cell_type": "code",
   "execution_count": 67,
   "metadata": {},
   "outputs": [
    {
     "name": "stdout",
     "output_type": "stream",
     "text": [
      "Elapsed time: 1228.390625\n"
     ]
    }
   ],
   "source": [
    "from time import process_time\n",
    "t2_start=process_time()\n",
    "\n",
    "#build model\n",
    "rf_bi_gram = RandomForestClassifier(max_depth=100)\n",
    "rf_bi_gram_model =rf_bi_gram.fit(bi_gram_vectors_train, train['Sentiment'].values)\n",
    "\n",
    "#use model for prdiction\n",
    "prediction['rf_bi_gram'] = rf_bi_gram_model.predict(bi_gram_vectors_test)\n",
    "prob['rf_bi_gram']=rf_bi_gram_model.predict_proba(bi_gram_vectors_test)\n",
    "\n",
    "t2_stop=process_time()\n",
    "print('Elapsed time:', t2_stop-t2_start)"
   ]
  },
  {
   "cell_type": "code",
   "execution_count": 68,
   "metadata": {},
   "outputs": [
    {
     "name": "stdout",
     "output_type": "stream",
     "text": [
      "test data\n",
      "positive    88777\n",
      "negative    24914\n",
      "Name: Sentiment, dtype: int64\n",
      "-------------\n",
      "predicted data\n",
      "Counter({'positive': 104753, 'negative': 8938})\n"
     ]
    }
   ],
   "source": [
    "import collections\n",
    "print('test data')\n",
    "print(test['Sentiment'].value_counts())\n",
    "print('-------------')\n",
    "print('predicted data')\n",
    "print(collections.Counter(prediction['rf_bi_gram']))"
   ]
  },
  {
   "cell_type": "markdown",
   "metadata": {},
   "source": [
    "#### c) Using tf-idf"
   ]
  },
  {
   "cell_type": "code",
   "execution_count": 69,
   "metadata": {},
   "outputs": [
    {
     "name": "stdout",
     "output_type": "stream",
     "text": [
      "Elapsed time: 1239.6875\n"
     ]
    }
   ],
   "source": [
    "from time import process_time\n",
    "t2_start=process_time()\n",
    "\n",
    "#build model\n",
    "rf_tfidf = RandomForestClassifier(max_depth=100)\n",
    "rf_tfidf_model=rf_tfidf.fit(tfidf_vectors_train, train['Sentiment'].values)\n",
    "\n",
    "#use model for prdiction\n",
    "prediction['rf_tfidf'] = rf_tfidf_model.predict(tfidf_vectors_test)\n",
    "prob['rf_tfidf']=rf_tfidf_model.predict_proba(tfidf_vectors_test)\n",
    "\n",
    "t2_stop=process_time()\n",
    "print('Elapsed time:', t2_stop-t2_start)"
   ]
  },
  {
   "cell_type": "code",
   "execution_count": 70,
   "metadata": {},
   "outputs": [
    {
     "name": "stdout",
     "output_type": "stream",
     "text": [
      "test data\n",
      "positive    88777\n",
      "negative    24914\n",
      "Name: Sentiment, dtype: int64\n",
      "-------------\n",
      "predicted data\n",
      "Counter({'positive': 105213, 'negative': 8478})\n"
     ]
    }
   ],
   "source": [
    "import collections\n",
    "print('test data')\n",
    "print(test['Sentiment'].value_counts())\n",
    "print('-------------')\n",
    "print('predicted data')\n",
    "print(collections.Counter(prediction['rf_tfidf']))"
   ]
  },
  {
   "cell_type": "markdown",
   "metadata": {},
   "source": [
    "## 4. Predictive and Evaluation\n",
    "In this section, we will use the test data split from the dataset to test the model performances. We will compare among 3 logistic models and among 3 random forest regression models to find the best performance model.           \n",
    "\n",
    "### Summary\n",
    "- Logistic regression models using Bi-gram and TF-IDF have the highest accuracy rate (0.92). Still, the logistic regression model used bi-gram has a higher f1-score, a higher area under the ROC curve, and hence the logistic model using bi-gram BOW performs the best among three.            \n",
    "- andom forest regression models all have a very closed accuracy rate, but the random forest using uni-gram BOW has the highest accuracy rate, f1 score, and area under the curve, and hen the random forest regression model performs using uni-gram perform the best among three.             \n",
    "- Comparison between the best logistic regression model and the random forest regression model, the logistic regression model using the bi-gram BOW performs the best.            \n",
    "\n",
    "#### 4.1 Comparison of 3 logistic models\n",
    "In order to compare our learning algorithms, let's build the ROC(Receiver Operating Characteristic) curve.        \n",
    "The curve with the highest AUC (Area under the ROC Curve) measure of performance across all possible classification thresholds, thus the highest AUC (Area under the ROC Curve) value will show our \"best\" algorithm.      "
   ]
  },
  {
   "cell_type": "markdown",
   "metadata": {},
   "source": [
    "#### a) Comparison of Classification report "
   ]
  },
  {
   "cell_type": "markdown",
   "metadata": {},
   "source": [
    "- The classification report measures the quality of the prediction model. It tells us the precision, reall, and f1 score on the basis of each label.                 \n",
    "- The metrics are calculated by using true positive (TP), false positive (FP), true negative (TN) and false negative (FN).      \n",
    "    - precision evaluates the accuracy of the positive predicitions.                         \n",
    "        Precision = TP/(TP + FP)\n",
    "    - recall evaluates the the percentage correct identified positives. \n",
    "        Recall = TP/(TP+FN)\n",
    "    - F1 score weights the precision and recall, measure the test's accuracy.            \n",
    "        F1 Score = 2*(Recall * Precision) / (Recall + Precision)"
   ]
  },
  {
   "cell_type": "code",
   "execution_count": 71,
   "metadata": {
    "scrolled": false
   },
   "outputs": [
    {
     "name": "stdout",
     "output_type": "stream",
     "text": [
      "Logistic Regression using uni-gram BOW:\n",
      "              precision    recall  f1-score   support\n",
      "\n",
      "    negative       0.81      0.64      0.72     24914\n",
      "    positive       0.91      0.96      0.93     88777\n",
      "\n",
      "    accuracy                           0.89    113691\n",
      "   macro avg       0.86      0.80      0.82    113691\n",
      "weighted avg       0.88      0.89      0.88    113691\n",
      "\n",
      "Logistic Regression using bi-gram BOW:\n",
      "              precision    recall  f1-score   support\n",
      "\n",
      "    negative       0.87      0.75      0.81     24914\n",
      "    positive       0.93      0.97      0.95     88777\n",
      "\n",
      "    accuracy                           0.92    113691\n",
      "   macro avg       0.90      0.86      0.88    113691\n",
      "weighted avg       0.92      0.92      0.92    113691\n",
      "\n",
      "Logistic Regression using tf-idf:\n",
      "              precision    recall  f1-score   support\n",
      "\n",
      "    negative       0.87      0.73      0.79     24914\n",
      "    positive       0.93      0.97      0.95     88777\n",
      "\n",
      "    accuracy                           0.92    113691\n",
      "   macro avg       0.90      0.85      0.87    113691\n",
      "weighted avg       0.91      0.92      0.91    113691\n",
      "\n"
     ]
    }
   ],
   "source": [
    "from sklearn import metrics\n",
    "from sklearn.metrics import classification_report\n",
    "print('Logistic Regression using uni-gram BOW:')\n",
    "print(metrics.classification_report(test['Sentiment'].values,\n",
    "                                   prediction['logreg_uni_gram'],\n",
    "                                   target_names = ['negative', 'positive']))\n",
    "print('Logistic Regression using bi-gram BOW:')\n",
    "print(metrics.classification_report(test['Sentiment'].values,\n",
    "                                   prediction['logreg_bi_gram'],\n",
    "                                   target_names = ['negative', 'positive']))\n",
    "print('Logistic Regression using tf-idf:')\n",
    "print(metrics.classification_report(test['Sentiment'].values,\n",
    "                                   prediction['logreg_tfidf'],\n",
    "                                   target_names = ['negative', 'positive']))"
   ]
  },
  {
   "cell_type": "markdown",
   "metadata": {},
   "source": [
    "Logistic regression models using Bi-gram and tf-idf have highest accuracy rate (0.92), but logistic regression model used bi-gram has higher f1-score than the one used tf-idf. Thus, logistic regression model used bi-gram perform the best under under current metric."
   ]
  },
  {
   "cell_type": "markdown",
   "metadata": {},
   "source": [
    "#### b) Comparison of AUC value\n",
    "- AUC stands for \"Area under the ROC Curve.\" That is, AUC measures the entire two-dimensional area underneath the entire ROC curve from (0,0) to (1,1) AUC measures the performance of the model prediction and it is nor related to what classification is choosen.                \n",
    "- An model with AUC value eqal to 0 means the prediction of the model is 100% wrong, and AUC value equal to 1.0 means the prediciton of the model is 100% correct. "
   ]
  },
  {
   "cell_type": "code",
   "execution_count": 72,
   "metadata": {},
   "outputs": [],
   "source": [
    "prob['no_skill']=[0 for _ in range(len(test['Sentiment'].values))]"
   ]
  },
  {
   "cell_type": "code",
   "execution_count": 73,
   "metadata": {
    "scrolled": true
   },
   "outputs": [
    {
     "name": "stdout",
     "output_type": "stream",
     "text": [
      "auc for no skill: ROC AUC =0.500\n",
      "auc for logistic using Uni_gram BOW: ROC AUC =0.928\n",
      "auc for logistic using Bi_gram BOW: ROC AUC =0.956\n",
      "auc for logistic using tfidf: ROC AUC =0.955\n"
     ]
    }
   ],
   "source": [
    "from sklearn.metrics import roc_curve, auc, roc_auc_score\n",
    "\n",
    "# get all auc value\n",
    "auc_noskill = roc_auc_score(test['Sentiment'].values, prob['no_skill'])\n",
    "auc_log_uni = roc_auc_score(test['Sentiment'].values, prob['logreg_uni_gram'] [:,1])\n",
    "auc_log_bi = roc_auc_score(test['Sentiment'].values, prob['logreg_bi_gram'] [:,1])\n",
    "auc_log_tfidf = roc_auc_score(test['Sentiment'].values, prob['logreg_tfidf'] [:,1])\n",
    "\n",
    "print('auc for no skill: ROC AUC =%.3f' % (auc_noskill))\n",
    "print('auc for logistic using Uni_gram BOW: ROC AUC =%.3f' % (auc_log_uni))\n",
    "print('auc for logistic using Bi_gram BOW: ROC AUC =%.3f' % (auc_log_bi))\n",
    "print('auc for logistic using tfidf: ROC AUC =%.3f' % (auc_log_tfidf))"
   ]
  },
  {
   "cell_type": "markdown",
   "metadata": {},
   "source": [
    "The highest AUC value is the logistic model using bi-gram BOW. This means the logistic regression model using bi-gram BOW predicts 95.6%."
   ]
  },
  {
   "cell_type": "markdown",
   "metadata": {},
   "source": [
    "#### c) Comparison of ROC curve"
   ]
  },
  {
   "cell_type": "markdown",
   "metadata": {},
   "source": [
    "ROC curve stands for Receiver operating characteristic. The curve created by plotting TP rate against FP rate at various threshold settings. And AUC is the area under ROC curve. "
   ]
  },
  {
   "cell_type": "code",
   "execution_count": 74,
   "metadata": {},
   "outputs": [],
   "source": [
    "# calculate roc curves\n",
    "nomodel_fpr, nomodel_tpr, _ = \\\n",
    "        roc_curve(test['Sentiment'].values, prob['no_skill'], pos_label='positive')\n",
    "log_uni_gram_fpr, log_uni_gram_tpr, _ = \\\n",
    "        roc_curve(test['Sentiment'].values, prob['logreg_uni_gram'][:,1], pos_label='positive')\n",
    "log_bi_gram_fpr, log_bi_gram_tpr, _ = \\\n",
    "        roc_curve(test['Sentiment'].values, prob['logreg_bi_gram'][:,1], pos_label='positive')\n",
    "log_tfidf_fpr, log_tfidf_tpr, _ = \\\n",
    "        roc_curve(test['Sentiment'].values, prob['logreg_tfidf'][:,1], pos_label='positive')"
   ]
  },
  {
   "cell_type": "code",
   "execution_count": 75,
   "metadata": {},
   "outputs": [
    {
     "data": {
      "image/png": "[encoded data removed]",
      "text/plain": [
       "<Figure size 576x432 with 1 Axes>"
      ]
     },
     "metadata": {
      "needs_background": "light"
     },
     "output_type": "display_data"
    }
   ],
   "source": [
    "#then plot the roc curve\n",
    "from matplotlib import pyplot\n",
    "pyplot.plot(nomodel_fpr, nomodel_tpr, linestyle ='--', label ='No Skill')\n",
    "pyplot.plot(log_uni_gram_fpr, log_uni_gram_tpr, linestyle ='-.', label ='logreg_uni_gram')\n",
    "pyplot.plot(log_bi_gram_fpr, log_bi_gram_tpr, linestyle =':', label ='logreg_bi_gram')\n",
    "pyplot.plot(log_tfidf_fpr, log_tfidf_tpr, linestyle ='dotted', label ='logreg_tfidf')\n",
    "\n",
    "#add label and ledgend\n",
    "pyplot.legend()\n",
    "plt.title('Classifiers comparaison with ROC')\n",
    "plt.legend(loc='lower right')\n",
    "plt.xlim([-0.1,1.2])\n",
    "plt.ylim([-0.1,1.2])\n",
    "pyplot.xlabel('False Positive Rate')\n",
    "pyplot.ylabel('True Positive Rate')\n",
    "pyplot.show()"
   ]
  },
  {
   "cell_type": "markdown",
   "metadata": {},
   "source": [
    "From the above curve, it can be seen that logisitc regression with bi-gram BOW is very close to the logistic regression using uni-gram BOW. Logistic regression using bi-gram BOW is slightly higer than the one with un-gram BOW, and has the highest area uder the ROC curve and hence, seems to be the best model according to this metric."
   ]
  },
  {
   "cell_type": "markdown",
   "metadata": {},
   "source": [
    "### 4.2 Comparison of 3 Random Forest Regression Model\n",
    "#### a) Comparison of Classification report"
   ]
  },
  {
   "cell_type": "code",
   "execution_count": 89,
   "metadata": {
    "scrolled": false
   },
   "outputs": [
    {
     "name": "stdout",
     "output_type": "stream",
     "text": [
      "Random Forest Regression using uni-gram BOW:\n",
      "              precision    recall  f1-score   support\n",
      "\n",
      "    negative       0.91      0.54      0.68     24914\n",
      "    positive       0.88      0.99      0.93     88777\n",
      "\n",
      "    accuracy                           0.89    113691\n",
      "   macro avg       0.90      0.76      0.80    113691\n",
      "weighted avg       0.89      0.89      0.88    113691\n",
      "\n",
      "Random Forest Regression using bi-gram BOW:\n",
      "              precision    recall  f1-score   support\n",
      "\n",
      "    negative       0.94      0.34      0.50     24914\n",
      "    positive       0.84      0.99      0.91     88777\n",
      "\n",
      "    accuracy                           0.85    113691\n",
      "   macro avg       0.89      0.67      0.70    113691\n",
      "weighted avg       0.86      0.85      0.82    113691\n",
      "\n",
      "Random Forest Regression using tf-idf:\n",
      "              precision    recall  f1-score   support\n",
      "\n",
      "    negative       0.94      0.32      0.48     24914\n",
      "    positive       0.84      0.99      0.91     88777\n",
      "\n",
      "    accuracy                           0.85    113691\n",
      "   macro avg       0.89      0.66      0.69    113691\n",
      "weighted avg       0.86      0.85      0.82    113691\n",
      "\n"
     ]
    }
   ],
   "source": [
    "print('Random Forest Regression using uni-gram BOW:')\n",
    "print(metrics.classification_report(test['Sentiment'].values, \n",
    "                                    prediction['rf_uni_gram'], \n",
    "                                    target_names = [\"negative\", \"positive\"]))\n",
    "print('Random Forest Regression using bi-gram BOW:')\n",
    "print(metrics.classification_report(test['Sentiment'].values, \n",
    "                                    prediction['rf_bi_gram'], \n",
    "                                    target_names = [\"negative\", \"positive\"]))\n",
    "print('Random Forest Regression using tf-idf:')\n",
    "print(metrics.classification_report(test['Sentiment'].values, \n",
    "                                    prediction['rf_tfidf'], \n",
    "                                    target_names = [\"negative\", \"positive\"]))"
   ]
  },
  {
   "cell_type": "markdown",
   "metadata": {},
   "source": [
    "The random forest regression has very close accuracy rate, the random forest regression using uni-gram BOW has the highest accuracy rate(0.89). In addition, random forest regression using uni-gram BOW has the highest f1 score. Thus, random forest regression model used uni-gram perform the best under current metrics. "
   ]
  },
  {
   "cell_type": "markdown",
   "metadata": {},
   "source": [
    "#### b) Comparison of AUC value"
   ]
  },
  {
   "cell_type": "code",
   "execution_count": 79,
   "metadata": {},
   "outputs": [],
   "source": [
    "prob['no_skill']=[0 for _ in range(len(test['Sentiment'].values))]"
   ]
  },
  {
   "cell_type": "code",
   "execution_count": 80,
   "metadata": {
    "scrolled": true
   },
   "outputs": [
    {
     "name": "stdout",
     "output_type": "stream",
     "text": [
      "auc for no skill: ROC AUC =0.500\n",
      "auc for radom forest using Uni_gram BOW: ROC AUC =0.941\n",
      "auc for radom forest using Bi_gram BOW: ROC AUC =0.936\n",
      "auc for radom forest using tfidf: ROC AUC =0.935\n"
     ]
    }
   ],
   "source": [
    "# get all auc value\n",
    "auc_noskill = roc_auc_score(test['Sentiment'].values, prob['no_skill'])\n",
    "auc_rf_uni = roc_auc_score(test['Sentiment'].values, prob['rf_uni_gram'] [:,1])\n",
    "auc_rf_bi = roc_auc_score(test['Sentiment'].values, prob['rf_bi_gram'] [:,1])\n",
    "auc_rf_tfidf = roc_auc_score(test['Sentiment'].values, prob['rf_tfidf'] [:,1])\n",
    "\n",
    "print('auc for no skill: ROC AUC =%.3f' % (auc_noskill))\n",
    "print('auc for radom forest using Uni_gram BOW: ROC AUC =%.3f' % (auc_rf_uni))\n",
    "print('auc for radom forest using Bi_gram BOW: ROC AUC =%.3f' % (auc_rf_bi))\n",
    "print('auc for radom forest using tfidf: ROC AUC =%.3f' % (auc_rf_tfidf))"
   ]
  },
  {
   "cell_type": "markdown",
   "metadata": {},
   "source": [
    "The random forest regression model using uni-gram BOW has the highest AUC value, which means this prediction model is 94.1% correct."
   ]
  },
  {
   "cell_type": "markdown",
   "metadata": {},
   "source": [
    "#### c) Comparison of ROC curve"
   ]
  },
  {
   "cell_type": "code",
   "execution_count": 84,
   "metadata": {},
   "outputs": [],
   "source": [
    "# calculate roc curves\n",
    "nomodel_fpr, nomodel_tpr, _ = \\\n",
    "        roc_curve(test['Sentiment'].values, prob['no_skill'], pos_label='positive')\n",
    "rf_uni_gram_fpr, rf_uni_gram_tpr, _ = \\\n",
    "        roc_curve(test['Sentiment'].values, prob['rf_uni_gram'][:,1], pos_label='positive')\n",
    "rf_bi_gram_fpr, rf_bi_gram_tpr, _ = \\\n",
    "        roc_curve(test['Sentiment'].values, prob['rf_bi_gram'][:,1], pos_label='positive')\n",
    "rf_tfidf_fpr, rf_tfidf_tpr, _ = \\\n",
    "        roc_curve(test['Sentiment'].values, prob['rf_tfidf'][:,1], pos_label='positive')"
   ]
  },
  {
   "cell_type": "code",
   "execution_count": 85,
   "metadata": {
    "scrolled": false
   },
   "outputs": [
    {
     "data": {
      "image/png": "[encoded data removed]",
      "text/plain": [
       "<Figure size 576x432 with 1 Axes>"
      ]
     },
     "metadata": {
      "needs_background": "light"
     },
     "output_type": "display_data"
    }
   ],
   "source": [
    "#then plot the roc curve\n",
    "from matplotlib import pyplot\n",
    "pyplot.plot(nomodel_fpr, nomodel_tpr, linestyle ='--', label ='No Skill')\n",
    "pyplot.plot(rf_uni_gram_fpr, rf_uni_gram_tpr, linestyle ='-.', label ='rf_uni_gram')\n",
    "pyplot.plot(rf_bi_gram_fpr, rf_bi_gram_tpr, linestyle =':', label ='rf_bi_gram')\n",
    "pyplot.plot(rf_tfidf_fpr, rf_tfidf_tpr, linestyle ='dotted', label ='rf_tfidf')\n",
    "\n",
    "#add label and ledgend\n",
    "pyplot.legend()\n",
    "plt.title('Classifiers comparaison with ROC')\n",
    "plt.legend(loc='lower right')\n",
    "plt.xlim([-0.1,1.2])\n",
    "plt.ylim([-0.1,1.2])\n",
    "pyplot.xlabel('False Positive Rate')\n",
    "pyplot.ylabel('True Positive Rate')\n",
    "pyplot.show()"
   ]
  },
  {
   "cell_type": "markdown",
   "metadata": {},
   "source": [
    "From the above curve, it can be seen that all three ROC curve is very close. However, we still can see the random forest regression using uni-gram BOW seems has the highest area under the ROC curve and hens, seems to be the best model under current metrics. "
   ]
  },
  {
   "cell_type": "markdown",
   "metadata": {},
   "source": [
    "### 4.3 Comparison between Logistic Regression Model and Random Forest Regression Model  \n"
   ]
  },
  {
   "cell_type": "code",
   "execution_count": 104,
   "metadata": {},
   "outputs": [
    {
     "name": "stdout",
     "output_type": "stream",
     "text": [
      "auc for logistic using Bi_gram BOW: ROC AUC =0.956\n",
      "auc for radom forest using Uni_gram BOW: ROC AUC =0.941\n"
     ]
    }
   ],
   "source": [
    "auc_log_bi = roc_auc_score(test['Sentiment'].values, prob['logreg_bi_gram'] [:,1])\n",
    "auc_rf_uni = roc_auc_score(test['Sentiment'].values, prob['rf_uni_gram'] [:,1])\n",
    "\n",
    "print('auc for logistic using Bi_gram BOW: ROC AUC =%.3f' % (auc_log_bi))\n",
    "print('auc for radom forest using Uni_gram BOW: ROC AUC =%.3f' % (auc_rf_uni))"
   ]
  },
  {
   "cell_type": "code",
   "execution_count": 86,
   "metadata": {
    "scrolled": false
   },
   "outputs": [
    {
     "data": {
      "image/png": "[encoded data removed]",
      "text/plain": [
       "<Figure size 576x432 with 1 Axes>"
      ]
     },
     "metadata": {
      "needs_background": "light"
     },
     "output_type": "display_data"
    }
   ],
   "source": [
    "#calculate roc curves\n",
    "nomodel_fpr, nomodel_tpr, _ = \\\n",
    "        roc_curve(test['Sentiment'].values, prob['no_skill'], pos_label='positive')\n",
    "log_bi_gram_fpr, log_bi_gram_tpr, _ = \\\n",
    "        roc_curve(test['Sentiment'].values, prob['logreg_bi_gram'][:,1], pos_label='positive')\n",
    "rf_uni_gram_fpr, rf_uni_gram_tpr, _ = \\\n",
    "        roc_curve(test['Sentiment'].values, prob['rf_uni_gram'][:,1], pos_label='positive')\n",
    "\n",
    "#then plot the roc curve\n",
    "from matplotlib import pyplot\n",
    "pyplot.plot(nomodel_fpr, nomodel_tpr, linestyle ='--', label ='No Skill')\n",
    "pyplot.plot(log_bi_gram_fpr, log_bi_gram_tpr, linestyle =':', label ='logreg_bi_gram')\n",
    "pyplot.plot(rf_uni_gram_fpr, rf_uni_gram_tpr, linestyle ='-.', label ='rf_uni_gram')\n",
    "\n",
    "#add label and ledgend\n",
    "pyplot.legend()\n",
    "plt.title('Classifiers comparaison with ROC')\n",
    "plt.legend(loc='lower right')\n",
    "plt.xlim([-0.1,1.2])\n",
    "plt.ylim([-0.1,1.2])\n",
    "pyplot.xlabel('False Positive Rate')\n",
    "pyplot.ylabel('True Positive Rate')\n",
    "pyplot.show()"
   ]
  },
  {
   "cell_type": "markdown",
   "metadata": {},
   "source": [
    "In logistic model, bi-gram BOW has the highest AUC (0.96) which is greater than the random forest using Uni_gram BOW (0.941). Thus, the best model is logistic model using bi-gram BOW."
   ]
  },
  {
   "cell_type": "markdown",
   "metadata": {},
   "source": [
    "## 5. Conclusion"
   ]
  },
  {
   "cell_type": "markdown",
   "metadata": {},
   "source": [
    "- In this notebook, we are trying to build a model that can predict whether reviews are positive or negative. In this sense, we intentionally ignored the review rated 3 scores.\n",
    "- After we created new variables and converted the variable into the desired data type, we performed various techniques to build a term-doc incidence matrix and displayed the cloud word to get a sense of the data. \n",
    "- In the exploratory data analysis, we used plots to show the distribution of score, sentiment, usefulness, reviewers, and the relationship between those variables.\n",
    "- To build a proper model, we used three different methods to vectorize the text and then applied each one with the logistic regression method and the random forest regression method. \n",
    "- In the end, we used three different metrics to find the best logistic model and the best random forest model. We also compared the best logistic model and the best random forest regression model. The logistic regression model using a bi-gram BOW performs the best compared to the other two logistic regression models. The random forest regression model using the uni-gram BOW performs the best compared to the other two random forest regression models. Overall, the logistic regression model using bi-gram BOW has the highest accuracy, f1 score, and area under the curve, and hence, the best model under current metrics. "
   ]
  }
 ],
 "metadata": {
  "kernelspec": {
   "display_name": "Python 3",
   "language": "python",
   "name": "python3"
  },
  "language_info": {
   "codemirror_mode": {
    "name": "ipython",
    "version": 3
   },
   "file_extension": ".py",
   "mimetype": "text/x-python",
   "name": "python",
   "nbconvert_exporter": "python",
   "pygments_lexer": "ipython3",
   "version": "3.8.3"
  }
 },
 "nbformat": 4,
 "nbformat_minor": 2
}
